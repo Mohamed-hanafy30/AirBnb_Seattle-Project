{
 "cells": [
  {
   "cell_type": "markdown",
   "metadata": {},
   "source": [
    "# 1- BUSINESS UNDERSTANDING\n",
    "The Seattle AirBnB Dataset contains data about AirBnB listings in Seattle, calendar availability for each of these listings as well as user reviews on the listings. Using this dataset, I am going to attempt to answer the following business questions.\n",
    "\n",
    "**Pricing Trends**\n",
    "\n",
    "1. How does pricing increase or decrease by season and what is the peak season in Seattle?\n",
    "\n",
    "2. How does pricing increase or decrease by neighborhood and which ones are the priciest neighborhoods in Seattle?\n",
    "\n",
    "3. How does property types within neighborhoods impact price for the most expensive neighborhoods and most common property types?\n",
    "\n",
    "\n",
    "**Sentiment Analysis of Reviews**\n",
    "\n",
    "1. How can we categorize reviews based on sentiments?\n",
    "\n",
    "2. Can we map positive and negative sentiments from reviews to neighborhoods to understand which neighborhoonds rank higher on the positive sentiment scale and which ones rank higher on the negative sentiment scale?\n",
    "\n",
    "3. Can we explore some of the worst reviews for additional insights?\n",
    "\n",
    "\n",
    "**Price Prediction**\n",
    "\n",
    "Can we predict price for a given listing? What factors of the listing correlate best for predicting price?\n",
    "\n",
    "Pricing trend related questions can help understand peak seasons and neighborhood in Seattle and can allow AirBnB to regulate inventory accordingly. It can also help with targeting more effective marketing campaigns.\n",
    "\n",
    "Sentiment analysis of reviews can give AirBnB insight into brand affinity and gauge consumer interest. In addition, associating the sentiments with neighborhoods can detect problematic neighborhoods.\n",
    "\n",
    "Price prediction can help understand what factors mostly correlate with price. This is helpful so these features can be top of mind for AirBnB as well as AirBnB hosts."
   ]
  },
  {
   "cell_type": "markdown",
   "metadata": {},
   "source": [
    "# 2- DATA UNDERSTANDING\n",
    "\n",
    "## Let's look at the data\n",
    "\n",
    "As a first step, I will be reading the 3 files part of the Seattle AirBnB dataset and exploring each of the datasets a bit.\n"
   ]
  },
  {
   "cell_type": "code",
   "execution_count": 119,
   "metadata": {},
   "outputs": [],
   "source": [
    "import pandas as pd\n",
    "import numpy as np\n",
    "import matplotlib.pyplot as plt\n",
    "import seaborn as sns\n",
    "%matplotlib inline\n",
    "pd.options.display.max_columns = 999\n",
    "import nltk\n",
    "from nltk.sentiment.vader import SentimentIntensityAnalyzer\n",
    "from collections import Counter\n",
    "from sklearn.model_selection import train_test_split\n",
    "from sklearn.linear_model import LinearRegression\n",
    "from sklearn.metrics import mean_squared_error,r2_score\n",
    "from IPython import display"
   ]
  },
  {
   "cell_type": "markdown",
   "metadata": {},
   "source": [
    "# 2.1 Read data set and explore it carefully\n",
    "\n",
    "there is **three** files for this project\n",
    "\n",
    "1. Calender\n",
    "2. listings\n",
    "3. reviewes"
   ]
  },
  {
   "cell_type": "code",
   "execution_count": 120,
   "metadata": {},
   "outputs": [
    {
     "data": {
      "text/html": [
       "<div>\n",
       "<style scoped>\n",
       "    .dataframe tbody tr th:only-of-type {\n",
       "        vertical-align: middle;\n",
       "    }\n",
       "\n",
       "    .dataframe tbody tr th {\n",
       "        vertical-align: top;\n",
       "    }\n",
       "\n",
       "    .dataframe thead th {\n",
       "        text-align: right;\n",
       "    }\n",
       "</style>\n",
       "<table border=\"1\" class=\"dataframe\">\n",
       "  <thead>\n",
       "    <tr style=\"text-align: right;\">\n",
       "      <th></th>\n",
       "      <th>listing_id</th>\n",
       "      <th>date</th>\n",
       "      <th>available</th>\n",
       "      <th>price</th>\n",
       "    </tr>\n",
       "  </thead>\n",
       "  <tbody>\n",
       "    <tr>\n",
       "      <th>0</th>\n",
       "      <td>241032</td>\n",
       "      <td>2016-01-04</td>\n",
       "      <td>t</td>\n",
       "      <td>$85.00</td>\n",
       "    </tr>\n",
       "    <tr>\n",
       "      <th>1</th>\n",
       "      <td>241032</td>\n",
       "      <td>2016-01-05</td>\n",
       "      <td>t</td>\n",
       "      <td>$85.00</td>\n",
       "    </tr>\n",
       "    <tr>\n",
       "      <th>2</th>\n",
       "      <td>241032</td>\n",
       "      <td>2016-01-06</td>\n",
       "      <td>f</td>\n",
       "      <td>NaN</td>\n",
       "    </tr>\n",
       "    <tr>\n",
       "      <th>3</th>\n",
       "      <td>241032</td>\n",
       "      <td>2016-01-07</td>\n",
       "      <td>f</td>\n",
       "      <td>NaN</td>\n",
       "    </tr>\n",
       "    <tr>\n",
       "      <th>4</th>\n",
       "      <td>241032</td>\n",
       "      <td>2016-01-08</td>\n",
       "      <td>f</td>\n",
       "      <td>NaN</td>\n",
       "    </tr>\n",
       "  </tbody>\n",
       "</table>\n",
       "</div>"
      ],
      "text/plain": [
       "   listing_id        date available   price\n",
       "0      241032  2016-01-04         t  $85.00\n",
       "1      241032  2016-01-05         t  $85.00\n",
       "2      241032  2016-01-06         f     NaN\n",
       "3      241032  2016-01-07         f     NaN\n",
       "4      241032  2016-01-08         f     NaN"
      ]
     },
     "execution_count": 120,
     "metadata": {},
     "output_type": "execute_result"
    }
   ],
   "source": [
    "SeatleCalender =pd.read_csv(r\"E:\\udacity data science nanodegree\\seattle\\calendar.csv\")\n",
    "SeatleCalender.head()"
   ]
  },
  {
   "cell_type": "code",
   "execution_count": 121,
   "metadata": {},
   "outputs": [
    {
     "data": {
      "text/html": [
       "<div>\n",
       "<style scoped>\n",
       "    .dataframe tbody tr th:only-of-type {\n",
       "        vertical-align: middle;\n",
       "    }\n",
       "\n",
       "    .dataframe tbody tr th {\n",
       "        vertical-align: top;\n",
       "    }\n",
       "\n",
       "    .dataframe thead th {\n",
       "        text-align: right;\n",
       "    }\n",
       "</style>\n",
       "<table border=\"1\" class=\"dataframe\">\n",
       "  <thead>\n",
       "    <tr style=\"text-align: right;\">\n",
       "      <th></th>\n",
       "      <th>id</th>\n",
       "      <th>listing_url</th>\n",
       "      <th>scrape_id</th>\n",
       "      <th>last_scraped</th>\n",
       "      <th>name</th>\n",
       "      <th>summary</th>\n",
       "      <th>space</th>\n",
       "      <th>description</th>\n",
       "      <th>experiences_offered</th>\n",
       "      <th>neighborhood_overview</th>\n",
       "      <th>notes</th>\n",
       "      <th>transit</th>\n",
       "      <th>thumbnail_url</th>\n",
       "      <th>medium_url</th>\n",
       "      <th>picture_url</th>\n",
       "      <th>xl_picture_url</th>\n",
       "      <th>host_id</th>\n",
       "      <th>host_url</th>\n",
       "      <th>host_name</th>\n",
       "      <th>host_since</th>\n",
       "      <th>host_location</th>\n",
       "      <th>host_about</th>\n",
       "      <th>host_response_time</th>\n",
       "      <th>host_response_rate</th>\n",
       "      <th>host_acceptance_rate</th>\n",
       "      <th>host_is_superhost</th>\n",
       "      <th>host_thumbnail_url</th>\n",
       "      <th>host_picture_url</th>\n",
       "      <th>host_neighbourhood</th>\n",
       "      <th>host_listings_count</th>\n",
       "      <th>host_total_listings_count</th>\n",
       "      <th>host_verifications</th>\n",
       "      <th>host_has_profile_pic</th>\n",
       "      <th>host_identity_verified</th>\n",
       "      <th>street</th>\n",
       "      <th>neighbourhood</th>\n",
       "      <th>neighbourhood_cleansed</th>\n",
       "      <th>neighbourhood_group_cleansed</th>\n",
       "      <th>city</th>\n",
       "      <th>state</th>\n",
       "      <th>zipcode</th>\n",
       "      <th>market</th>\n",
       "      <th>smart_location</th>\n",
       "      <th>country_code</th>\n",
       "      <th>country</th>\n",
       "      <th>latitude</th>\n",
       "      <th>longitude</th>\n",
       "      <th>is_location_exact</th>\n",
       "      <th>property_type</th>\n",
       "      <th>room_type</th>\n",
       "      <th>accommodates</th>\n",
       "      <th>bathrooms</th>\n",
       "      <th>bedrooms</th>\n",
       "      <th>beds</th>\n",
       "      <th>bed_type</th>\n",
       "      <th>amenities</th>\n",
       "      <th>square_feet</th>\n",
       "      <th>price</th>\n",
       "      <th>weekly_price</th>\n",
       "      <th>monthly_price</th>\n",
       "      <th>security_deposit</th>\n",
       "      <th>cleaning_fee</th>\n",
       "      <th>guests_included</th>\n",
       "      <th>extra_people</th>\n",
       "      <th>minimum_nights</th>\n",
       "      <th>maximum_nights</th>\n",
       "      <th>calendar_updated</th>\n",
       "      <th>has_availability</th>\n",
       "      <th>availability_30</th>\n",
       "      <th>availability_60</th>\n",
       "      <th>availability_90</th>\n",
       "      <th>availability_365</th>\n",
       "      <th>calendar_last_scraped</th>\n",
       "      <th>number_of_reviews</th>\n",
       "      <th>first_review</th>\n",
       "      <th>last_review</th>\n",
       "      <th>review_scores_rating</th>\n",
       "      <th>review_scores_accuracy</th>\n",
       "      <th>review_scores_cleanliness</th>\n",
       "      <th>review_scores_checkin</th>\n",
       "      <th>review_scores_communication</th>\n",
       "      <th>review_scores_location</th>\n",
       "      <th>review_scores_value</th>\n",
       "      <th>requires_license</th>\n",
       "      <th>license</th>\n",
       "      <th>jurisdiction_names</th>\n",
       "      <th>instant_bookable</th>\n",
       "      <th>cancellation_policy</th>\n",
       "      <th>require_guest_profile_picture</th>\n",
       "      <th>require_guest_phone_verification</th>\n",
       "      <th>calculated_host_listings_count</th>\n",
       "      <th>reviews_per_month</th>\n",
       "    </tr>\n",
       "  </thead>\n",
       "  <tbody>\n",
       "    <tr>\n",
       "      <th>0</th>\n",
       "      <td>241032</td>\n",
       "      <td>https://www.airbnb.com/rooms/241032</td>\n",
       "      <td>20160104002432</td>\n",
       "      <td>2016-01-04</td>\n",
       "      <td>Stylish Queen Anne Apartment</td>\n",
       "      <td>NaN</td>\n",
       "      <td>Make your self at home in this charming one-be...</td>\n",
       "      <td>Make your self at home in this charming one-be...</td>\n",
       "      <td>none</td>\n",
       "      <td>NaN</td>\n",
       "      <td>NaN</td>\n",
       "      <td>NaN</td>\n",
       "      <td>NaN</td>\n",
       "      <td>NaN</td>\n",
       "      <td>https://a1.muscache.com/ac/pictures/67560560/c...</td>\n",
       "      <td>NaN</td>\n",
       "      <td>956883</td>\n",
       "      <td>https://www.airbnb.com/users/show/956883</td>\n",
       "      <td>Maija</td>\n",
       "      <td>2011-08-11</td>\n",
       "      <td>Seattle, Washington, United States</td>\n",
       "      <td>I am an artist, interior designer, and run a s...</td>\n",
       "      <td>within a few hours</td>\n",
       "      <td>96%</td>\n",
       "      <td>100%</td>\n",
       "      <td>f</td>\n",
       "      <td>https://a0.muscache.com/ac/users/956883/profil...</td>\n",
       "      <td>https://a0.muscache.com/ac/users/956883/profil...</td>\n",
       "      <td>Queen Anne</td>\n",
       "      <td>3.0</td>\n",
       "      <td>3.0</td>\n",
       "      <td>['email', 'phone', 'reviews', 'kba']</td>\n",
       "      <td>t</td>\n",
       "      <td>t</td>\n",
       "      <td>Gilman Dr W, Seattle, WA 98119, United States</td>\n",
       "      <td>Queen Anne</td>\n",
       "      <td>West Queen Anne</td>\n",
       "      <td>Queen Anne</td>\n",
       "      <td>Seattle</td>\n",
       "      <td>WA</td>\n",
       "      <td>98119</td>\n",
       "      <td>Seattle</td>\n",
       "      <td>Seattle, WA</td>\n",
       "      <td>US</td>\n",
       "      <td>United States</td>\n",
       "      <td>47.636289</td>\n",
       "      <td>-122.371025</td>\n",
       "      <td>t</td>\n",
       "      <td>Apartment</td>\n",
       "      <td>Entire home/apt</td>\n",
       "      <td>4</td>\n",
       "      <td>1.0</td>\n",
       "      <td>1.0</td>\n",
       "      <td>1.0</td>\n",
       "      <td>Real Bed</td>\n",
       "      <td>{TV,\"Cable TV\",Internet,\"Wireless Internet\",\"A...</td>\n",
       "      <td>NaN</td>\n",
       "      <td>$85.00</td>\n",
       "      <td>NaN</td>\n",
       "      <td>NaN</td>\n",
       "      <td>NaN</td>\n",
       "      <td>NaN</td>\n",
       "      <td>2</td>\n",
       "      <td>$5.00</td>\n",
       "      <td>1</td>\n",
       "      <td>365</td>\n",
       "      <td>4 weeks ago</td>\n",
       "      <td>t</td>\n",
       "      <td>14</td>\n",
       "      <td>41</td>\n",
       "      <td>71</td>\n",
       "      <td>346</td>\n",
       "      <td>2016-01-04</td>\n",
       "      <td>207</td>\n",
       "      <td>2011-11-01</td>\n",
       "      <td>2016-01-02</td>\n",
       "      <td>95.0</td>\n",
       "      <td>10.0</td>\n",
       "      <td>10.0</td>\n",
       "      <td>10.0</td>\n",
       "      <td>10.0</td>\n",
       "      <td>9.0</td>\n",
       "      <td>10.0</td>\n",
       "      <td>f</td>\n",
       "      <td>NaN</td>\n",
       "      <td>WASHINGTON</td>\n",
       "      <td>f</td>\n",
       "      <td>moderate</td>\n",
       "      <td>f</td>\n",
       "      <td>f</td>\n",
       "      <td>2</td>\n",
       "      <td>4.07</td>\n",
       "    </tr>\n",
       "    <tr>\n",
       "      <th>1</th>\n",
       "      <td>953595</td>\n",
       "      <td>https://www.airbnb.com/rooms/953595</td>\n",
       "      <td>20160104002432</td>\n",
       "      <td>2016-01-04</td>\n",
       "      <td>Bright &amp; Airy Queen Anne Apartment</td>\n",
       "      <td>Chemically sensitive? We've removed the irrita...</td>\n",
       "      <td>Beautiful, hypoallergenic apartment in an extr...</td>\n",
       "      <td>Chemically sensitive? We've removed the irrita...</td>\n",
       "      <td>none</td>\n",
       "      <td>Queen Anne is a wonderful, truly functional vi...</td>\n",
       "      <td>What's up with the free pillows?  Our home was...</td>\n",
       "      <td>Convenient bus stops are just down the block, ...</td>\n",
       "      <td>https://a0.muscache.com/ac/pictures/14409893/f...</td>\n",
       "      <td>https://a0.muscache.com/im/pictures/14409893/f...</td>\n",
       "      <td>https://a0.muscache.com/ac/pictures/14409893/f...</td>\n",
       "      <td>https://a0.muscache.com/ac/pictures/14409893/f...</td>\n",
       "      <td>5177328</td>\n",
       "      <td>https://www.airbnb.com/users/show/5177328</td>\n",
       "      <td>Andrea</td>\n",
       "      <td>2013-02-21</td>\n",
       "      <td>Seattle, Washington, United States</td>\n",
       "      <td>Living east coast/left coast/overseas.  Time i...</td>\n",
       "      <td>within an hour</td>\n",
       "      <td>98%</td>\n",
       "      <td>100%</td>\n",
       "      <td>t</td>\n",
       "      <td>https://a0.muscache.com/ac/users/5177328/profi...</td>\n",
       "      <td>https://a0.muscache.com/ac/users/5177328/profi...</td>\n",
       "      <td>Queen Anne</td>\n",
       "      <td>6.0</td>\n",
       "      <td>6.0</td>\n",
       "      <td>['email', 'phone', 'facebook', 'linkedin', 're...</td>\n",
       "      <td>t</td>\n",
       "      <td>t</td>\n",
       "      <td>7th Avenue West, Seattle, WA 98119, United States</td>\n",
       "      <td>Queen Anne</td>\n",
       "      <td>West Queen Anne</td>\n",
       "      <td>Queen Anne</td>\n",
       "      <td>Seattle</td>\n",
       "      <td>WA</td>\n",
       "      <td>98119</td>\n",
       "      <td>Seattle</td>\n",
       "      <td>Seattle, WA</td>\n",
       "      <td>US</td>\n",
       "      <td>United States</td>\n",
       "      <td>47.639123</td>\n",
       "      <td>-122.365666</td>\n",
       "      <td>t</td>\n",
       "      <td>Apartment</td>\n",
       "      <td>Entire home/apt</td>\n",
       "      <td>4</td>\n",
       "      <td>1.0</td>\n",
       "      <td>1.0</td>\n",
       "      <td>1.0</td>\n",
       "      <td>Real Bed</td>\n",
       "      <td>{TV,Internet,\"Wireless Internet\",Kitchen,\"Free...</td>\n",
       "      <td>NaN</td>\n",
       "      <td>$150.00</td>\n",
       "      <td>$1,000.00</td>\n",
       "      <td>$3,000.00</td>\n",
       "      <td>$100.00</td>\n",
       "      <td>$40.00</td>\n",
       "      <td>1</td>\n",
       "      <td>$0.00</td>\n",
       "      <td>2</td>\n",
       "      <td>90</td>\n",
       "      <td>today</td>\n",
       "      <td>t</td>\n",
       "      <td>13</td>\n",
       "      <td>13</td>\n",
       "      <td>16</td>\n",
       "      <td>291</td>\n",
       "      <td>2016-01-04</td>\n",
       "      <td>43</td>\n",
       "      <td>2013-08-19</td>\n",
       "      <td>2015-12-29</td>\n",
       "      <td>96.0</td>\n",
       "      <td>10.0</td>\n",
       "      <td>10.0</td>\n",
       "      <td>10.0</td>\n",
       "      <td>10.0</td>\n",
       "      <td>10.0</td>\n",
       "      <td>10.0</td>\n",
       "      <td>f</td>\n",
       "      <td>NaN</td>\n",
       "      <td>WASHINGTON</td>\n",
       "      <td>f</td>\n",
       "      <td>strict</td>\n",
       "      <td>t</td>\n",
       "      <td>t</td>\n",
       "      <td>6</td>\n",
       "      <td>1.48</td>\n",
       "    </tr>\n",
       "    <tr>\n",
       "      <th>2</th>\n",
       "      <td>3308979</td>\n",
       "      <td>https://www.airbnb.com/rooms/3308979</td>\n",
       "      <td>20160104002432</td>\n",
       "      <td>2016-01-04</td>\n",
       "      <td>New Modern House-Amazing water view</td>\n",
       "      <td>New modern house built in 2013.  Spectacular s...</td>\n",
       "      <td>Our house is modern, light and fresh with a wa...</td>\n",
       "      <td>New modern house built in 2013.  Spectacular s...</td>\n",
       "      <td>none</td>\n",
       "      <td>Upper Queen Anne is a charming neighborhood fu...</td>\n",
       "      <td>Our house is located just 5 short blocks to To...</td>\n",
       "      <td>A bus stop is just 2 blocks away.   Easy bus a...</td>\n",
       "      <td>NaN</td>\n",
       "      <td>NaN</td>\n",
       "      <td>https://a2.muscache.com/ac/pictures/b4324e0f-a...</td>\n",
       "      <td>NaN</td>\n",
       "      <td>16708587</td>\n",
       "      <td>https://www.airbnb.com/users/show/16708587</td>\n",
       "      <td>Jill</td>\n",
       "      <td>2014-06-12</td>\n",
       "      <td>Seattle, Washington, United States</td>\n",
       "      <td>i love living in Seattle.  i grew up in the mi...</td>\n",
       "      <td>within a few hours</td>\n",
       "      <td>67%</td>\n",
       "      <td>100%</td>\n",
       "      <td>f</td>\n",
       "      <td>https://a1.muscache.com/ac/users/16708587/prof...</td>\n",
       "      <td>https://a1.muscache.com/ac/users/16708587/prof...</td>\n",
       "      <td>Queen Anne</td>\n",
       "      <td>2.0</td>\n",
       "      <td>2.0</td>\n",
       "      <td>['email', 'phone', 'google', 'reviews', 'jumio']</td>\n",
       "      <td>t</td>\n",
       "      <td>t</td>\n",
       "      <td>West Lee Street, Seattle, WA 98119, United States</td>\n",
       "      <td>Queen Anne</td>\n",
       "      <td>West Queen Anne</td>\n",
       "      <td>Queen Anne</td>\n",
       "      <td>Seattle</td>\n",
       "      <td>WA</td>\n",
       "      <td>98119</td>\n",
       "      <td>Seattle</td>\n",
       "      <td>Seattle, WA</td>\n",
       "      <td>US</td>\n",
       "      <td>United States</td>\n",
       "      <td>47.629724</td>\n",
       "      <td>-122.369483</td>\n",
       "      <td>t</td>\n",
       "      <td>House</td>\n",
       "      <td>Entire home/apt</td>\n",
       "      <td>11</td>\n",
       "      <td>4.5</td>\n",
       "      <td>5.0</td>\n",
       "      <td>7.0</td>\n",
       "      <td>Real Bed</td>\n",
       "      <td>{TV,\"Cable TV\",Internet,\"Wireless Internet\",\"A...</td>\n",
       "      <td>NaN</td>\n",
       "      <td>$975.00</td>\n",
       "      <td>NaN</td>\n",
       "      <td>NaN</td>\n",
       "      <td>$1,000.00</td>\n",
       "      <td>$300.00</td>\n",
       "      <td>10</td>\n",
       "      <td>$25.00</td>\n",
       "      <td>4</td>\n",
       "      <td>30</td>\n",
       "      <td>5 weeks ago</td>\n",
       "      <td>t</td>\n",
       "      <td>1</td>\n",
       "      <td>6</td>\n",
       "      <td>17</td>\n",
       "      <td>220</td>\n",
       "      <td>2016-01-04</td>\n",
       "      <td>20</td>\n",
       "      <td>2014-07-30</td>\n",
       "      <td>2015-09-03</td>\n",
       "      <td>97.0</td>\n",
       "      <td>10.0</td>\n",
       "      <td>10.0</td>\n",
       "      <td>10.0</td>\n",
       "      <td>10.0</td>\n",
       "      <td>10.0</td>\n",
       "      <td>10.0</td>\n",
       "      <td>f</td>\n",
       "      <td>NaN</td>\n",
       "      <td>WASHINGTON</td>\n",
       "      <td>f</td>\n",
       "      <td>strict</td>\n",
       "      <td>f</td>\n",
       "      <td>f</td>\n",
       "      <td>2</td>\n",
       "      <td>1.15</td>\n",
       "    </tr>\n",
       "    <tr>\n",
       "      <th>3</th>\n",
       "      <td>7421966</td>\n",
       "      <td>https://www.airbnb.com/rooms/7421966</td>\n",
       "      <td>20160104002432</td>\n",
       "      <td>2016-01-04</td>\n",
       "      <td>Queen Anne Chateau</td>\n",
       "      <td>A charming apartment that sits atop Queen Anne...</td>\n",
       "      <td>NaN</td>\n",
       "      <td>A charming apartment that sits atop Queen Anne...</td>\n",
       "      <td>none</td>\n",
       "      <td>NaN</td>\n",
       "      <td>NaN</td>\n",
       "      <td>NaN</td>\n",
       "      <td>NaN</td>\n",
       "      <td>NaN</td>\n",
       "      <td>https://a0.muscache.com/ac/pictures/94146944/6...</td>\n",
       "      <td>NaN</td>\n",
       "      <td>9851441</td>\n",
       "      <td>https://www.airbnb.com/users/show/9851441</td>\n",
       "      <td>Emily</td>\n",
       "      <td>2013-11-06</td>\n",
       "      <td>Seattle, Washington, United States</td>\n",
       "      <td>NaN</td>\n",
       "      <td>NaN</td>\n",
       "      <td>NaN</td>\n",
       "      <td>NaN</td>\n",
       "      <td>f</td>\n",
       "      <td>https://a2.muscache.com/ac/users/9851441/profi...</td>\n",
       "      <td>https://a2.muscache.com/ac/users/9851441/profi...</td>\n",
       "      <td>Queen Anne</td>\n",
       "      <td>1.0</td>\n",
       "      <td>1.0</td>\n",
       "      <td>['email', 'phone', 'facebook', 'reviews', 'jum...</td>\n",
       "      <td>t</td>\n",
       "      <td>t</td>\n",
       "      <td>8th Avenue West, Seattle, WA 98119, United States</td>\n",
       "      <td>Queen Anne</td>\n",
       "      <td>West Queen Anne</td>\n",
       "      <td>Queen Anne</td>\n",
       "      <td>Seattle</td>\n",
       "      <td>WA</td>\n",
       "      <td>98119</td>\n",
       "      <td>Seattle</td>\n",
       "      <td>Seattle, WA</td>\n",
       "      <td>US</td>\n",
       "      <td>United States</td>\n",
       "      <td>47.638473</td>\n",
       "      <td>-122.369279</td>\n",
       "      <td>t</td>\n",
       "      <td>Apartment</td>\n",
       "      <td>Entire home/apt</td>\n",
       "      <td>3</td>\n",
       "      <td>1.0</td>\n",
       "      <td>0.0</td>\n",
       "      <td>2.0</td>\n",
       "      <td>Real Bed</td>\n",
       "      <td>{Internet,\"Wireless Internet\",Kitchen,\"Indoor ...</td>\n",
       "      <td>NaN</td>\n",
       "      <td>$100.00</td>\n",
       "      <td>$650.00</td>\n",
       "      <td>$2,300.00</td>\n",
       "      <td>NaN</td>\n",
       "      <td>NaN</td>\n",
       "      <td>1</td>\n",
       "      <td>$0.00</td>\n",
       "      <td>1</td>\n",
       "      <td>1125</td>\n",
       "      <td>6 months ago</td>\n",
       "      <td>t</td>\n",
       "      <td>0</td>\n",
       "      <td>0</td>\n",
       "      <td>0</td>\n",
       "      <td>143</td>\n",
       "      <td>2016-01-04</td>\n",
       "      <td>0</td>\n",
       "      <td>NaN</td>\n",
       "      <td>NaN</td>\n",
       "      <td>NaN</td>\n",
       "      <td>NaN</td>\n",
       "      <td>NaN</td>\n",
       "      <td>NaN</td>\n",
       "      <td>NaN</td>\n",
       "      <td>NaN</td>\n",
       "      <td>NaN</td>\n",
       "      <td>f</td>\n",
       "      <td>NaN</td>\n",
       "      <td>WASHINGTON</td>\n",
       "      <td>f</td>\n",
       "      <td>flexible</td>\n",
       "      <td>f</td>\n",
       "      <td>f</td>\n",
       "      <td>1</td>\n",
       "      <td>NaN</td>\n",
       "    </tr>\n",
       "    <tr>\n",
       "      <th>4</th>\n",
       "      <td>278830</td>\n",
       "      <td>https://www.airbnb.com/rooms/278830</td>\n",
       "      <td>20160104002432</td>\n",
       "      <td>2016-01-04</td>\n",
       "      <td>Charming craftsman 3 bdm house</td>\n",
       "      <td>Cozy family craftman house in beautiful neighb...</td>\n",
       "      <td>Cozy family craftman house in beautiful neighb...</td>\n",
       "      <td>Cozy family craftman house in beautiful neighb...</td>\n",
       "      <td>none</td>\n",
       "      <td>We are in the beautiful neighborhood of Queen ...</td>\n",
       "      <td>Belltown</td>\n",
       "      <td>The nearest public transit bus (D Line) is 2 b...</td>\n",
       "      <td>NaN</td>\n",
       "      <td>NaN</td>\n",
       "      <td>https://a1.muscache.com/ac/pictures/6120468/b0...</td>\n",
       "      <td>NaN</td>\n",
       "      <td>1452570</td>\n",
       "      <td>https://www.airbnb.com/users/show/1452570</td>\n",
       "      <td>Emily</td>\n",
       "      <td>2011-11-29</td>\n",
       "      <td>Seattle, Washington, United States</td>\n",
       "      <td>Hi, I live in Seattle, Washington but I'm orig...</td>\n",
       "      <td>within an hour</td>\n",
       "      <td>100%</td>\n",
       "      <td>NaN</td>\n",
       "      <td>f</td>\n",
       "      <td>https://a0.muscache.com/ac/users/1452570/profi...</td>\n",
       "      <td>https://a0.muscache.com/ac/users/1452570/profi...</td>\n",
       "      <td>Queen Anne</td>\n",
       "      <td>2.0</td>\n",
       "      <td>2.0</td>\n",
       "      <td>['email', 'phone', 'facebook', 'reviews', 'kba']</td>\n",
       "      <td>t</td>\n",
       "      <td>t</td>\n",
       "      <td>14th Ave W, Seattle, WA 98119, United States</td>\n",
       "      <td>Queen Anne</td>\n",
       "      <td>West Queen Anne</td>\n",
       "      <td>Queen Anne</td>\n",
       "      <td>Seattle</td>\n",
       "      <td>WA</td>\n",
       "      <td>98119</td>\n",
       "      <td>Seattle</td>\n",
       "      <td>Seattle, WA</td>\n",
       "      <td>US</td>\n",
       "      <td>United States</td>\n",
       "      <td>47.632918</td>\n",
       "      <td>-122.372471</td>\n",
       "      <td>t</td>\n",
       "      <td>House</td>\n",
       "      <td>Entire home/apt</td>\n",
       "      <td>6</td>\n",
       "      <td>2.0</td>\n",
       "      <td>3.0</td>\n",
       "      <td>3.0</td>\n",
       "      <td>Real Bed</td>\n",
       "      <td>{TV,\"Cable TV\",Internet,\"Wireless Internet\",Ki...</td>\n",
       "      <td>NaN</td>\n",
       "      <td>$450.00</td>\n",
       "      <td>NaN</td>\n",
       "      <td>NaN</td>\n",
       "      <td>$700.00</td>\n",
       "      <td>$125.00</td>\n",
       "      <td>6</td>\n",
       "      <td>$15.00</td>\n",
       "      <td>1</td>\n",
       "      <td>1125</td>\n",
       "      <td>7 weeks ago</td>\n",
       "      <td>t</td>\n",
       "      <td>30</td>\n",
       "      <td>60</td>\n",
       "      <td>90</td>\n",
       "      <td>365</td>\n",
       "      <td>2016-01-04</td>\n",
       "      <td>38</td>\n",
       "      <td>2012-07-10</td>\n",
       "      <td>2015-10-24</td>\n",
       "      <td>92.0</td>\n",
       "      <td>9.0</td>\n",
       "      <td>9.0</td>\n",
       "      <td>10.0</td>\n",
       "      <td>10.0</td>\n",
       "      <td>9.0</td>\n",
       "      <td>9.0</td>\n",
       "      <td>f</td>\n",
       "      <td>NaN</td>\n",
       "      <td>WASHINGTON</td>\n",
       "      <td>f</td>\n",
       "      <td>strict</td>\n",
       "      <td>f</td>\n",
       "      <td>f</td>\n",
       "      <td>1</td>\n",
       "      <td>0.89</td>\n",
       "    </tr>\n",
       "  </tbody>\n",
       "</table>\n",
       "</div>"
      ],
      "text/plain": [
       "        id                           listing_url       scrape_id last_scraped  \\\n",
       "0   241032   https://www.airbnb.com/rooms/241032  20160104002432   2016-01-04   \n",
       "1   953595   https://www.airbnb.com/rooms/953595  20160104002432   2016-01-04   \n",
       "2  3308979  https://www.airbnb.com/rooms/3308979  20160104002432   2016-01-04   \n",
       "3  7421966  https://www.airbnb.com/rooms/7421966  20160104002432   2016-01-04   \n",
       "4   278830   https://www.airbnb.com/rooms/278830  20160104002432   2016-01-04   \n",
       "\n",
       "                                  name  \\\n",
       "0         Stylish Queen Anne Apartment   \n",
       "1   Bright & Airy Queen Anne Apartment   \n",
       "2  New Modern House-Amazing water view   \n",
       "3                   Queen Anne Chateau   \n",
       "4       Charming craftsman 3 bdm house   \n",
       "\n",
       "                                             summary  \\\n",
       "0                                                NaN   \n",
       "1  Chemically sensitive? We've removed the irrita...   \n",
       "2  New modern house built in 2013.  Spectacular s...   \n",
       "3  A charming apartment that sits atop Queen Anne...   \n",
       "4  Cozy family craftman house in beautiful neighb...   \n",
       "\n",
       "                                               space  \\\n",
       "0  Make your self at home in this charming one-be...   \n",
       "1  Beautiful, hypoallergenic apartment in an extr...   \n",
       "2  Our house is modern, light and fresh with a wa...   \n",
       "3                                                NaN   \n",
       "4  Cozy family craftman house in beautiful neighb...   \n",
       "\n",
       "                                         description experiences_offered  \\\n",
       "0  Make your self at home in this charming one-be...                none   \n",
       "1  Chemically sensitive? We've removed the irrita...                none   \n",
       "2  New modern house built in 2013.  Spectacular s...                none   \n",
       "3  A charming apartment that sits atop Queen Anne...                none   \n",
       "4  Cozy family craftman house in beautiful neighb...                none   \n",
       "\n",
       "                               neighborhood_overview  \\\n",
       "0                                                NaN   \n",
       "1  Queen Anne is a wonderful, truly functional vi...   \n",
       "2  Upper Queen Anne is a charming neighborhood fu...   \n",
       "3                                                NaN   \n",
       "4  We are in the beautiful neighborhood of Queen ...   \n",
       "\n",
       "                                               notes  \\\n",
       "0                                                NaN   \n",
       "1  What's up with the free pillows?  Our home was...   \n",
       "2  Our house is located just 5 short blocks to To...   \n",
       "3                                                NaN   \n",
       "4                                          Belltown    \n",
       "\n",
       "                                             transit  \\\n",
       "0                                                NaN   \n",
       "1  Convenient bus stops are just down the block, ...   \n",
       "2  A bus stop is just 2 blocks away.   Easy bus a...   \n",
       "3                                                NaN   \n",
       "4  The nearest public transit bus (D Line) is 2 b...   \n",
       "\n",
       "                                       thumbnail_url  \\\n",
       "0                                                NaN   \n",
       "1  https://a0.muscache.com/ac/pictures/14409893/f...   \n",
       "2                                                NaN   \n",
       "3                                                NaN   \n",
       "4                                                NaN   \n",
       "\n",
       "                                          medium_url  \\\n",
       "0                                                NaN   \n",
       "1  https://a0.muscache.com/im/pictures/14409893/f...   \n",
       "2                                                NaN   \n",
       "3                                                NaN   \n",
       "4                                                NaN   \n",
       "\n",
       "                                         picture_url  \\\n",
       "0  https://a1.muscache.com/ac/pictures/67560560/c...   \n",
       "1  https://a0.muscache.com/ac/pictures/14409893/f...   \n",
       "2  https://a2.muscache.com/ac/pictures/b4324e0f-a...   \n",
       "3  https://a0.muscache.com/ac/pictures/94146944/6...   \n",
       "4  https://a1.muscache.com/ac/pictures/6120468/b0...   \n",
       "\n",
       "                                      xl_picture_url   host_id  \\\n",
       "0                                                NaN    956883   \n",
       "1  https://a0.muscache.com/ac/pictures/14409893/f...   5177328   \n",
       "2                                                NaN  16708587   \n",
       "3                                                NaN   9851441   \n",
       "4                                                NaN   1452570   \n",
       "\n",
       "                                     host_url host_name  host_since  \\\n",
       "0    https://www.airbnb.com/users/show/956883     Maija  2011-08-11   \n",
       "1   https://www.airbnb.com/users/show/5177328    Andrea  2013-02-21   \n",
       "2  https://www.airbnb.com/users/show/16708587      Jill  2014-06-12   \n",
       "3   https://www.airbnb.com/users/show/9851441     Emily  2013-11-06   \n",
       "4   https://www.airbnb.com/users/show/1452570     Emily  2011-11-29   \n",
       "\n",
       "                        host_location  \\\n",
       "0  Seattle, Washington, United States   \n",
       "1  Seattle, Washington, United States   \n",
       "2  Seattle, Washington, United States   \n",
       "3  Seattle, Washington, United States   \n",
       "4  Seattle, Washington, United States   \n",
       "\n",
       "                                          host_about  host_response_time  \\\n",
       "0  I am an artist, interior designer, and run a s...  within a few hours   \n",
       "1  Living east coast/left coast/overseas.  Time i...      within an hour   \n",
       "2  i love living in Seattle.  i grew up in the mi...  within a few hours   \n",
       "3                                                NaN                 NaN   \n",
       "4  Hi, I live in Seattle, Washington but I'm orig...      within an hour   \n",
       "\n",
       "  host_response_rate host_acceptance_rate host_is_superhost  \\\n",
       "0                96%                 100%                 f   \n",
       "1                98%                 100%                 t   \n",
       "2                67%                 100%                 f   \n",
       "3                NaN                  NaN                 f   \n",
       "4               100%                  NaN                 f   \n",
       "\n",
       "                                  host_thumbnail_url  \\\n",
       "0  https://a0.muscache.com/ac/users/956883/profil...   \n",
       "1  https://a0.muscache.com/ac/users/5177328/profi...   \n",
       "2  https://a1.muscache.com/ac/users/16708587/prof...   \n",
       "3  https://a2.muscache.com/ac/users/9851441/profi...   \n",
       "4  https://a0.muscache.com/ac/users/1452570/profi...   \n",
       "\n",
       "                                    host_picture_url host_neighbourhood  \\\n",
       "0  https://a0.muscache.com/ac/users/956883/profil...         Queen Anne   \n",
       "1  https://a0.muscache.com/ac/users/5177328/profi...         Queen Anne   \n",
       "2  https://a1.muscache.com/ac/users/16708587/prof...         Queen Anne   \n",
       "3  https://a2.muscache.com/ac/users/9851441/profi...         Queen Anne   \n",
       "4  https://a0.muscache.com/ac/users/1452570/profi...         Queen Anne   \n",
       "\n",
       "   host_listings_count  host_total_listings_count  \\\n",
       "0                  3.0                        3.0   \n",
       "1                  6.0                        6.0   \n",
       "2                  2.0                        2.0   \n",
       "3                  1.0                        1.0   \n",
       "4                  2.0                        2.0   \n",
       "\n",
       "                                  host_verifications host_has_profile_pic  \\\n",
       "0               ['email', 'phone', 'reviews', 'kba']                    t   \n",
       "1  ['email', 'phone', 'facebook', 'linkedin', 're...                    t   \n",
       "2   ['email', 'phone', 'google', 'reviews', 'jumio']                    t   \n",
       "3  ['email', 'phone', 'facebook', 'reviews', 'jum...                    t   \n",
       "4   ['email', 'phone', 'facebook', 'reviews', 'kba']                    t   \n",
       "\n",
       "  host_identity_verified                                             street  \\\n",
       "0                      t      Gilman Dr W, Seattle, WA 98119, United States   \n",
       "1                      t  7th Avenue West, Seattle, WA 98119, United States   \n",
       "2                      t  West Lee Street, Seattle, WA 98119, United States   \n",
       "3                      t  8th Avenue West, Seattle, WA 98119, United States   \n",
       "4                      t       14th Ave W, Seattle, WA 98119, United States   \n",
       "\n",
       "  neighbourhood neighbourhood_cleansed neighbourhood_group_cleansed     city  \\\n",
       "0    Queen Anne        West Queen Anne                   Queen Anne  Seattle   \n",
       "1    Queen Anne        West Queen Anne                   Queen Anne  Seattle   \n",
       "2    Queen Anne        West Queen Anne                   Queen Anne  Seattle   \n",
       "3    Queen Anne        West Queen Anne                   Queen Anne  Seattle   \n",
       "4    Queen Anne        West Queen Anne                   Queen Anne  Seattle   \n",
       "\n",
       "  state zipcode   market smart_location country_code        country  \\\n",
       "0    WA   98119  Seattle    Seattle, WA           US  United States   \n",
       "1    WA   98119  Seattle    Seattle, WA           US  United States   \n",
       "2    WA   98119  Seattle    Seattle, WA           US  United States   \n",
       "3    WA   98119  Seattle    Seattle, WA           US  United States   \n",
       "4    WA   98119  Seattle    Seattle, WA           US  United States   \n",
       "\n",
       "    latitude   longitude is_location_exact property_type        room_type  \\\n",
       "0  47.636289 -122.371025                 t     Apartment  Entire home/apt   \n",
       "1  47.639123 -122.365666                 t     Apartment  Entire home/apt   \n",
       "2  47.629724 -122.369483                 t         House  Entire home/apt   \n",
       "3  47.638473 -122.369279                 t     Apartment  Entire home/apt   \n",
       "4  47.632918 -122.372471                 t         House  Entire home/apt   \n",
       "\n",
       "   accommodates  bathrooms  bedrooms  beds  bed_type  \\\n",
       "0             4        1.0       1.0   1.0  Real Bed   \n",
       "1             4        1.0       1.0   1.0  Real Bed   \n",
       "2            11        4.5       5.0   7.0  Real Bed   \n",
       "3             3        1.0       0.0   2.0  Real Bed   \n",
       "4             6        2.0       3.0   3.0  Real Bed   \n",
       "\n",
       "                                           amenities  square_feet    price  \\\n",
       "0  {TV,\"Cable TV\",Internet,\"Wireless Internet\",\"A...          NaN   $85.00   \n",
       "1  {TV,Internet,\"Wireless Internet\",Kitchen,\"Free...          NaN  $150.00   \n",
       "2  {TV,\"Cable TV\",Internet,\"Wireless Internet\",\"A...          NaN  $975.00   \n",
       "3  {Internet,\"Wireless Internet\",Kitchen,\"Indoor ...          NaN  $100.00   \n",
       "4  {TV,\"Cable TV\",Internet,\"Wireless Internet\",Ki...          NaN  $450.00   \n",
       "\n",
       "  weekly_price monthly_price security_deposit cleaning_fee  guests_included  \\\n",
       "0          NaN           NaN              NaN          NaN                2   \n",
       "1    $1,000.00     $3,000.00          $100.00       $40.00                1   \n",
       "2          NaN           NaN        $1,000.00      $300.00               10   \n",
       "3      $650.00     $2,300.00              NaN          NaN                1   \n",
       "4          NaN           NaN          $700.00      $125.00                6   \n",
       "\n",
       "  extra_people  minimum_nights  maximum_nights calendar_updated  \\\n",
       "0        $5.00               1             365      4 weeks ago   \n",
       "1        $0.00               2              90            today   \n",
       "2       $25.00               4              30      5 weeks ago   \n",
       "3        $0.00               1            1125     6 months ago   \n",
       "4       $15.00               1            1125      7 weeks ago   \n",
       "\n",
       "  has_availability  availability_30  availability_60  availability_90  \\\n",
       "0                t               14               41               71   \n",
       "1                t               13               13               16   \n",
       "2                t                1                6               17   \n",
       "3                t                0                0                0   \n",
       "4                t               30               60               90   \n",
       "\n",
       "   availability_365 calendar_last_scraped  number_of_reviews first_review  \\\n",
       "0               346            2016-01-04                207   2011-11-01   \n",
       "1               291            2016-01-04                 43   2013-08-19   \n",
       "2               220            2016-01-04                 20   2014-07-30   \n",
       "3               143            2016-01-04                  0          NaN   \n",
       "4               365            2016-01-04                 38   2012-07-10   \n",
       "\n",
       "  last_review  review_scores_rating  review_scores_accuracy  \\\n",
       "0  2016-01-02                  95.0                    10.0   \n",
       "1  2015-12-29                  96.0                    10.0   \n",
       "2  2015-09-03                  97.0                    10.0   \n",
       "3         NaN                   NaN                     NaN   \n",
       "4  2015-10-24                  92.0                     9.0   \n",
       "\n",
       "   review_scores_cleanliness  review_scores_checkin  \\\n",
       "0                       10.0                   10.0   \n",
       "1                       10.0                   10.0   \n",
       "2                       10.0                   10.0   \n",
       "3                        NaN                    NaN   \n",
       "4                        9.0                   10.0   \n",
       "\n",
       "   review_scores_communication  review_scores_location  review_scores_value  \\\n",
       "0                         10.0                     9.0                 10.0   \n",
       "1                         10.0                    10.0                 10.0   \n",
       "2                         10.0                    10.0                 10.0   \n",
       "3                          NaN                     NaN                  NaN   \n",
       "4                         10.0                     9.0                  9.0   \n",
       "\n",
       "  requires_license  license jurisdiction_names instant_bookable  \\\n",
       "0                f      NaN         WASHINGTON                f   \n",
       "1                f      NaN         WASHINGTON                f   \n",
       "2                f      NaN         WASHINGTON                f   \n",
       "3                f      NaN         WASHINGTON                f   \n",
       "4                f      NaN         WASHINGTON                f   \n",
       "\n",
       "  cancellation_policy require_guest_profile_picture  \\\n",
       "0            moderate                             f   \n",
       "1              strict                             t   \n",
       "2              strict                             f   \n",
       "3            flexible                             f   \n",
       "4              strict                             f   \n",
       "\n",
       "  require_guest_phone_verification  calculated_host_listings_count  \\\n",
       "0                                f                               2   \n",
       "1                                t                               6   \n",
       "2                                f                               2   \n",
       "3                                f                               1   \n",
       "4                                f                               1   \n",
       "\n",
       "   reviews_per_month  \n",
       "0               4.07  \n",
       "1               1.48  \n",
       "2               1.15  \n",
       "3                NaN  \n",
       "4               0.89  "
      ]
     },
     "execution_count": 121,
     "metadata": {},
     "output_type": "execute_result"
    }
   ],
   "source": [
    "SeatleListings= pd.read_csv(r\"E:\\udacity data science nanodegree\\seattle\\listings.csv\")\n",
    "SeatleListings.head()"
   ]
  },
  {
   "cell_type": "code",
   "execution_count": 122,
   "metadata": {},
   "outputs": [
    {
     "data": {
      "text/html": [
       "<div>\n",
       "<style scoped>\n",
       "    .dataframe tbody tr th:only-of-type {\n",
       "        vertical-align: middle;\n",
       "    }\n",
       "\n",
       "    .dataframe tbody tr th {\n",
       "        vertical-align: top;\n",
       "    }\n",
       "\n",
       "    .dataframe thead th {\n",
       "        text-align: right;\n",
       "    }\n",
       "</style>\n",
       "<table border=\"1\" class=\"dataframe\">\n",
       "  <thead>\n",
       "    <tr style=\"text-align: right;\">\n",
       "      <th></th>\n",
       "      <th>listing_id</th>\n",
       "      <th>id</th>\n",
       "      <th>date</th>\n",
       "      <th>reviewer_id</th>\n",
       "      <th>reviewer_name</th>\n",
       "      <th>comments</th>\n",
       "    </tr>\n",
       "  </thead>\n",
       "  <tbody>\n",
       "    <tr>\n",
       "      <th>0</th>\n",
       "      <td>7202016</td>\n",
       "      <td>38917982</td>\n",
       "      <td>2015-07-19</td>\n",
       "      <td>28943674</td>\n",
       "      <td>Bianca</td>\n",
       "      <td>Cute and cozy place. Perfect location to every...</td>\n",
       "    </tr>\n",
       "    <tr>\n",
       "      <th>1</th>\n",
       "      <td>7202016</td>\n",
       "      <td>39087409</td>\n",
       "      <td>2015-07-20</td>\n",
       "      <td>32440555</td>\n",
       "      <td>Frank</td>\n",
       "      <td>Kelly has a great room in a very central locat...</td>\n",
       "    </tr>\n",
       "    <tr>\n",
       "      <th>2</th>\n",
       "      <td>7202016</td>\n",
       "      <td>39820030</td>\n",
       "      <td>2015-07-26</td>\n",
       "      <td>37722850</td>\n",
       "      <td>Ian</td>\n",
       "      <td>Very spacious apartment, and in a great neighb...</td>\n",
       "    </tr>\n",
       "    <tr>\n",
       "      <th>3</th>\n",
       "      <td>7202016</td>\n",
       "      <td>40813543</td>\n",
       "      <td>2015-08-02</td>\n",
       "      <td>33671805</td>\n",
       "      <td>George</td>\n",
       "      <td>Close to Seattle Center and all it has to offe...</td>\n",
       "    </tr>\n",
       "    <tr>\n",
       "      <th>4</th>\n",
       "      <td>7202016</td>\n",
       "      <td>41986501</td>\n",
       "      <td>2015-08-10</td>\n",
       "      <td>34959538</td>\n",
       "      <td>Ming</td>\n",
       "      <td>Kelly was a great host and very accommodating ...</td>\n",
       "    </tr>\n",
       "  </tbody>\n",
       "</table>\n",
       "</div>"
      ],
      "text/plain": [
       "   listing_id        id        date  reviewer_id reviewer_name  \\\n",
       "0     7202016  38917982  2015-07-19     28943674        Bianca   \n",
       "1     7202016  39087409  2015-07-20     32440555         Frank   \n",
       "2     7202016  39820030  2015-07-26     37722850           Ian   \n",
       "3     7202016  40813543  2015-08-02     33671805        George   \n",
       "4     7202016  41986501  2015-08-10     34959538          Ming   \n",
       "\n",
       "                                            comments  \n",
       "0  Cute and cozy place. Perfect location to every...  \n",
       "1  Kelly has a great room in a very central locat...  \n",
       "2  Very spacious apartment, and in a great neighb...  \n",
       "3  Close to Seattle Center and all it has to offe...  \n",
       "4  Kelly was a great host and very accommodating ...  "
      ]
     },
     "execution_count": 122,
     "metadata": {},
     "output_type": "execute_result"
    }
   ],
   "source": [
    "SeatleReviews= pd.read_csv(r\"E:\\udacity data science nanodegree\\seattle\\reviews.csv\")\n",
    "SeatleReviews.head()"
   ]
  },
  {
   "cell_type": "markdown",
   "metadata": {},
   "source": [
    "# 2.1.0 CALENDAR Data Set\n",
    "\n",
    "Let's explore the Calendar data set first. We wil be looking at its charactristics as:\n",
    "\n",
    "1. Number of rows and columns in the dataset\n",
    "2. Columns with missing values and columns that have no missing values\n",
    "3. Describe the dataset to see features about each column"
   ]
  },
  {
   "cell_type": "code",
   "execution_count": 123,
   "metadata": {},
   "outputs": [
    {
     "name": "stdout",
     "output_type": "stream",
     "text": [
      "Number of rows in SeatleCalender are 1393570 and number of columns are 4\n"
     ]
    }
   ],
   "source": [
    "# Print rows and columns in calendar data set\n",
    "print(\"Number of rows in SeatleCalender are {} and number of columns are {}\".format(SeatleCalender.shape[0],SeatleCalender.shape[1]))"
   ]
  },
  {
   "cell_type": "code",
   "execution_count": 124,
   "metadata": {},
   "outputs": [
    {
     "name": "stdout",
     "output_type": "stream",
     "text": [
      "listing_id         0\n",
      "date               0\n",
      "available          0\n",
      "price         459028\n",
      "dtype: int64\n"
     ]
    }
   ],
   "source": [
    "# Assess null values\n",
    "print(SeatleCalender.isnull().sum())"
   ]
  },
  {
   "cell_type": "code",
   "execution_count": 125,
   "metadata": {},
   "outputs": [
    {
     "name": "stdout",
     "output_type": "stream",
     "text": [
      "          listing_id        date available    price\n",
      "count   1.393570e+06     1393570   1393570   934542\n",
      "unique           NaN         365         2      669\n",
      "top              NaN  2016-01-31         t  $150.00\n",
      "freq             NaN        3818    934542    36646\n",
      "mean    5.550111e+06         NaN       NaN      NaN\n",
      "std     2.962274e+06         NaN       NaN      NaN\n",
      "min     3.335000e+03         NaN       NaN      NaN\n",
      "25%     3.258213e+06         NaN       NaN      NaN\n",
      "50%     6.118244e+06         NaN       NaN      NaN\n",
      "75%     8.035212e+06         NaN       NaN      NaN\n",
      "max     1.034016e+07         NaN       NaN      NaN\n"
     ]
    }
   ],
   "source": [
    "# Describe to get a brief summary about dataset min,max,interquartile and so on\n",
    "print(SeatleCalender.describe(include='all'))"
   ]
  },
  {
   "cell_type": "markdown",
   "metadata": {},
   "source": [
    "**FINDINGS**\n",
    "\n",
    "Based on the previous exploration, it seems like there will be little data preprocessing required to use this dataset. The only missing values are in the price column which could be just due to the fact that the listing is unavailable for those days."
   ]
  },
  {
   "cell_type": "markdown",
   "metadata": {},
   "source": [
    "# Visualize Seasonal Pattern in Seatle"
   ]
  },
  {
   "cell_type": "code",
   "execution_count": 126,
   "metadata": {},
   "outputs": [],
   "source": [
    "# import libraries to plot time series\n",
    "from datetime import datetime\n",
    "import matplotlib.dates as mdates\n",
    "from scipy.ndimage.filters import gaussian_filter1d"
   ]
  },
  {
   "cell_type": "code",
   "execution_count": 127,
   "metadata": {},
   "outputs": [],
   "source": [
    "def timeplot(data, feat, title):\n",
    "    \"\"\"\n",
    "    draw a smooth line for the time series of feature\n",
    "    \"\"\"\n",
    "    \n",
    "    plt.figure(figsize=(20,8))\n",
    "    \n",
    "    x = [datetime.strptime(date, '%Y-%m-%d') for date in data.index]\n",
    "    y = data[feat]\n",
    "    \n",
    "    # smooth y for visualization\n",
    "    y_smooth = gaussian_filter1d(y, sigma=5)\n",
    "    \n",
    "    # set x tick by month\n",
    "    plt.gca().xaxis.set_major_formatter(mdates.DateFormatter('%Y-%m-%d'))\n",
    "    plt.gca().xaxis.set_major_locator(mdates.MonthLocator())\n",
    "    plt.xticks(rotation =90)\n",
    "    plt.title(title)\n",
    "    plt.plot(x, y_smooth, 'c-')\n",
    "    plt.show()"
   ]
  },
  {
   "cell_type": "markdown",
   "metadata": {},
   "source": [
    "## Seasonal Booking"
   ]
  },
  {
   "cell_type": "code",
   "execution_count": 128,
   "metadata": {},
   "outputs": [
    {
     "data": {
      "text/plain": [
       "t    934542\n",
       "f    459028\n",
       "Name: available, dtype: int64"
      ]
     },
     "execution_count": 128,
     "metadata": {},
     "output_type": "execute_result"
    }
   ],
   "source": [
    "SeatleCalender['available'].value_counts()"
   ]
  },
  {
   "cell_type": "code",
   "execution_count": 129,
   "metadata": {},
   "outputs": [],
   "source": [
    "SeatleCalender['available_bool']=SeatleCalender['available'].map(lambda available:1 if available == 't' else 0)"
   ]
  },
  {
   "cell_type": "code",
   "execution_count": 130,
   "metadata": {},
   "outputs": [
    {
     "data": {
      "text/html": [
       "<div>\n",
       "<style scoped>\n",
       "    .dataframe tbody tr th:only-of-type {\n",
       "        vertical-align: middle;\n",
       "    }\n",
       "\n",
       "    .dataframe tbody tr th {\n",
       "        vertical-align: top;\n",
       "    }\n",
       "\n",
       "    .dataframe thead th {\n",
       "        text-align: right;\n",
       "    }\n",
       "</style>\n",
       "<table border=\"1\" class=\"dataframe\">\n",
       "  <thead>\n",
       "    <tr style=\"text-align: right;\">\n",
       "      <th></th>\n",
       "      <th>listing_id</th>\n",
       "      <th>date</th>\n",
       "      <th>available</th>\n",
       "      <th>price</th>\n",
       "      <th>available_bool</th>\n",
       "    </tr>\n",
       "  </thead>\n",
       "  <tbody>\n",
       "    <tr>\n",
       "      <th>0</th>\n",
       "      <td>241032</td>\n",
       "      <td>2016-01-04</td>\n",
       "      <td>t</td>\n",
       "      <td>$85.00</td>\n",
       "      <td>1</td>\n",
       "    </tr>\n",
       "    <tr>\n",
       "      <th>1</th>\n",
       "      <td>241032</td>\n",
       "      <td>2016-01-05</td>\n",
       "      <td>t</td>\n",
       "      <td>$85.00</td>\n",
       "      <td>1</td>\n",
       "    </tr>\n",
       "    <tr>\n",
       "      <th>2</th>\n",
       "      <td>241032</td>\n",
       "      <td>2016-01-06</td>\n",
       "      <td>f</td>\n",
       "      <td>NaN</td>\n",
       "      <td>0</td>\n",
       "    </tr>\n",
       "    <tr>\n",
       "      <th>3</th>\n",
       "      <td>241032</td>\n",
       "      <td>2016-01-07</td>\n",
       "      <td>f</td>\n",
       "      <td>NaN</td>\n",
       "      <td>0</td>\n",
       "    </tr>\n",
       "    <tr>\n",
       "      <th>4</th>\n",
       "      <td>241032</td>\n",
       "      <td>2016-01-08</td>\n",
       "      <td>f</td>\n",
       "      <td>NaN</td>\n",
       "      <td>0</td>\n",
       "    </tr>\n",
       "  </tbody>\n",
       "</table>\n",
       "</div>"
      ],
      "text/plain": [
       "   listing_id        date available   price  available_bool\n",
       "0      241032  2016-01-04         t  $85.00               1\n",
       "1      241032  2016-01-05         t  $85.00               1\n",
       "2      241032  2016-01-06         f     NaN               0\n",
       "3      241032  2016-01-07         f     NaN               0\n",
       "4      241032  2016-01-08         f     NaN               0"
      ]
     },
     "execution_count": 130,
     "metadata": {},
     "output_type": "execute_result"
    }
   ],
   "source": [
    "SeatleCalender.head()"
   ]
  },
  {
   "cell_type": "code",
   "execution_count": 131,
   "metadata": {},
   "outputs": [
    {
     "data": {
      "text/plain": [
       "1    934542\n",
       "0    459028\n",
       "Name: available_bool, dtype: int64"
      ]
     },
     "execution_count": 131,
     "metadata": {},
     "output_type": "execute_result"
    }
   ],
   "source": [
    "#check new values \n",
    "\n",
    "SeatleCalender['available_bool'].value_counts()"
   ]
  },
  {
   "cell_type": "code",
   "execution_count": 132,
   "metadata": {},
   "outputs": [
    {
     "data": {
      "text/html": [
       "<div>\n",
       "<style scoped>\n",
       "    .dataframe tbody tr th:only-of-type {\n",
       "        vertical-align: middle;\n",
       "    }\n",
       "\n",
       "    .dataframe tbody tr th {\n",
       "        vertical-align: top;\n",
       "    }\n",
       "\n",
       "    .dataframe thead th {\n",
       "        text-align: right;\n",
       "    }\n",
       "</style>\n",
       "<table border=\"1\" class=\"dataframe\">\n",
       "  <thead>\n",
       "    <tr style=\"text-align: right;\">\n",
       "      <th></th>\n",
       "      <th>available_bool</th>\n",
       "      <th>occupancy</th>\n",
       "    </tr>\n",
       "    <tr>\n",
       "      <th>date</th>\n",
       "      <th></th>\n",
       "      <th></th>\n",
       "    </tr>\n",
       "  </thead>\n",
       "  <tbody>\n",
       "    <tr>\n",
       "      <th>2016-01-04</th>\n",
       "      <td>0.454426</td>\n",
       "      <td>0.545574</td>\n",
       "    </tr>\n",
       "    <tr>\n",
       "      <th>2016-01-05</th>\n",
       "      <td>0.488999</td>\n",
       "      <td>0.511001</td>\n",
       "    </tr>\n",
       "    <tr>\n",
       "      <th>2016-01-06</th>\n",
       "      <td>0.478261</td>\n",
       "      <td>0.521739</td>\n",
       "    </tr>\n",
       "    <tr>\n",
       "      <th>2016-01-07</th>\n",
       "      <td>0.465165</td>\n",
       "      <td>0.534835</td>\n",
       "    </tr>\n",
       "    <tr>\n",
       "      <th>2016-01-08</th>\n",
       "      <td>0.466737</td>\n",
       "      <td>0.533263</td>\n",
       "    </tr>\n",
       "  </tbody>\n",
       "</table>\n",
       "</div>"
      ],
      "text/plain": [
       "            available_bool  occupancy\n",
       "date                                 \n",
       "2016-01-04        0.454426   0.545574\n",
       "2016-01-05        0.488999   0.511001\n",
       "2016-01-06        0.478261   0.521739\n",
       "2016-01-07        0.465165   0.534835\n",
       "2016-01-08        0.466737   0.533263"
      ]
     },
     "execution_count": 132,
     "metadata": {},
     "output_type": "execute_result"
    }
   ],
   "source": [
    "Seatle_occupancy_by_date = SeatleCalender[['date', 'available_bool']].groupby('date').mean()\n",
    "Seatle_occupancy_by_date['occupancy'] = 1 - Seatle_occupancy_by_date['available_bool']\n",
    "Seatle_occupancy_by_date.head()"
   ]
  },
  {
   "cell_type": "code",
   "execution_count": 133,
   "metadata": {},
   "outputs": [],
   "source": [
    "#to avoid some performance issues \n",
    "from pandas.plotting import register_matplotlib_converters\n",
    "register_matplotlib_converters()"
   ]
  },
  {
   "cell_type": "code",
   "execution_count": 134,
   "metadata": {},
   "outputs": [
    {
     "data": {
      "image/png": "[encoded data removed]",
      "text/plain": [
       "<Figure size 1440x576 with 1 Axes>"
      ]
     },
     "metadata": {
      "needs_background": "light"
     },
     "output_type": "display_data"
    }
   ],
   "source": [
    "timeplot(Seatle_occupancy_by_date, 'occupancy', 'Occupancy Rate by Date')\n"
   ]
  },
  {
   "cell_type": "markdown",
   "metadata": {},
   "source": [
    "**Finidings**\n",
    "\n",
    "The highest occupancy rate is in **January 2016**, and decreasing rapidly from **50% to 30% in 2 months**. Then, it goes up slightly in the start of **April** and in the **start of July separately**. After that, it **declines continuously.**\n",
    "\n",
    "It seems that **spring and summer** are the busy season. The best weather in Seattle is from late June to early September. And, in fact, there is a peak during that time.\n",
    "\n",
    "However, it is weird to see the highest occupancy rate is in January 2016. It might be because any festivals. Or did the hotels change their price strategy to become more competitive? I don't know why."
   ]
  },
  {
   "cell_type": "markdown",
   "metadata": {},
   "source": [
    "## Which are Airbnb popular homes in seatlee"
   ]
  },
  {
   "cell_type": "code",
   "execution_count": 135,
   "metadata": {},
   "outputs": [],
   "source": [
    "Seatle_occupancy_by_listing = SeatleCalender[['listing_id', 'available_bool']].groupby('listing_id').mean()\n",
    "Seatle_occupancy_by_listing['occupancy'] = 1 - Seatle_occupancy_by_listing['available_bool']\n",
    "Seatle_occupancy_by_listing.drop(['available_bool'], axis = 1, inplace=True)\n",
    "Seatle_occupancy_by_listing['id'] = Seatle_occupancy_by_listing.index"
   ]
  },
  {
   "cell_type": "code",
   "execution_count": 136,
   "metadata": {},
   "outputs": [
    {
     "data": {
      "text/html": [
       "<div>\n",
       "<style scoped>\n",
       "    .dataframe tbody tr th:only-of-type {\n",
       "        vertical-align: middle;\n",
       "    }\n",
       "\n",
       "    .dataframe tbody tr th {\n",
       "        vertical-align: top;\n",
       "    }\n",
       "\n",
       "    .dataframe thead th {\n",
       "        text-align: right;\n",
       "    }\n",
       "</style>\n",
       "<table border=\"1\" class=\"dataframe\">\n",
       "  <thead>\n",
       "    <tr style=\"text-align: right;\">\n",
       "      <th></th>\n",
       "      <th>occupancy</th>\n",
       "      <th>id</th>\n",
       "    </tr>\n",
       "    <tr>\n",
       "      <th>listing_id</th>\n",
       "      <th></th>\n",
       "      <th></th>\n",
       "    </tr>\n",
       "  </thead>\n",
       "  <tbody>\n",
       "    <tr>\n",
       "      <th>5308339</th>\n",
       "      <td>1.0</td>\n",
       "      <td>5308339</td>\n",
       "    </tr>\n",
       "    <tr>\n",
       "      <th>4211836</th>\n",
       "      <td>1.0</td>\n",
       "      <td>4211836</td>\n",
       "    </tr>\n",
       "    <tr>\n",
       "      <th>9939359</th>\n",
       "      <td>1.0</td>\n",
       "      <td>9939359</td>\n",
       "    </tr>\n",
       "    <tr>\n",
       "      <th>2426152</th>\n",
       "      <td>1.0</td>\n",
       "      <td>2426152</td>\n",
       "    </tr>\n",
       "    <tr>\n",
       "      <th>4030600</th>\n",
       "      <td>1.0</td>\n",
       "      <td>4030600</td>\n",
       "    </tr>\n",
       "  </tbody>\n",
       "</table>\n",
       "</div>"
      ],
      "text/plain": [
       "            occupancy       id\n",
       "listing_id                    \n",
       "5308339           1.0  5308339\n",
       "4211836           1.0  4211836\n",
       "9939359           1.0  9939359\n",
       "2426152           1.0  2426152\n",
       "4030600           1.0  4030600"
      ]
     },
     "execution_count": 136,
     "metadata": {},
     "output_type": "execute_result"
    }
   ],
   "source": [
    "Seatle_occupancy_by_listing.sort_values(by= 'occupancy',ascending=False).head()"
   ]
  },
  {
   "cell_type": "markdown",
   "metadata": {},
   "source": [
    "## we will merge 2 dataset to find host name corresponding to top popular listing_id"
   ]
  },
  {
   "cell_type": "code",
   "execution_count": null,
   "metadata": {},
   "outputs": [],
   "source": []
  },
  {
   "cell_type": "markdown",
   "metadata": {},
   "source": [
    "\n",
    "\n",
    "# 2.1.1 LISTINGS Data Set\n",
    "\n",
    "Next, let's explore the Listings data set. We wil be looking at a few things:\n",
    "\n",
    "1. Number of rows and columns in the dataset\n",
    "2. Columns with missing values and columns that have no missing values\n",
    "3. Describe the dataset to see features about each column\n",
    "4. Explore some of the categorical features"
   ]
  },
  {
   "cell_type": "code",
   "execution_count": 137,
   "metadata": {},
   "outputs": [
    {
     "name": "stdout",
     "output_type": "stream",
     "text": [
      "Number of rows in SeatleCaListings are 3818 and number of columns are 92\n"
     ]
    }
   ],
   "source": [
    "# Print rows and columns in Listings data set\n",
    "print(\"Number of rows in SeatleCaListings are {} and number of columns are {}\".format(SeatleListings.shape[0],SeatleListings.shape[1]))"
   ]
  },
  {
   "cell_type": "code",
   "execution_count": 138,
   "metadata": {},
   "outputs": [
    {
     "name": "stdout",
     "output_type": "stream",
     "text": [
      "id                                     0\n",
      "listing_url                            0\n",
      "scrape_id                              0\n",
      "last_scraped                           0\n",
      "name                                   0\n",
      "summary                              177\n",
      "space                                569\n",
      "description                            0\n",
      "experiences_offered                    0\n",
      "neighborhood_overview               1032\n",
      "notes                               1606\n",
      "transit                              934\n",
      "thumbnail_url                        320\n",
      "medium_url                           320\n",
      "picture_url                            0\n",
      "xl_picture_url                       320\n",
      "host_id                                0\n",
      "host_url                               0\n",
      "host_name                              2\n",
      "host_since                             2\n",
      "host_location                          8\n",
      "host_about                           859\n",
      "host_response_time                   523\n",
      "host_response_rate                   523\n",
      "host_acceptance_rate                 773\n",
      "host_is_superhost                      2\n",
      "host_thumbnail_url                     2\n",
      "host_picture_url                       2\n",
      "host_neighbourhood                   300\n",
      "host_listings_count                    2\n",
      "                                    ... \n",
      "guests_included                        0\n",
      "extra_people                           0\n",
      "minimum_nights                         0\n",
      "maximum_nights                         0\n",
      "calendar_updated                       0\n",
      "has_availability                       0\n",
      "availability_30                        0\n",
      "availability_60                        0\n",
      "availability_90                        0\n",
      "availability_365                       0\n",
      "calendar_last_scraped                  0\n",
      "number_of_reviews                      0\n",
      "first_review                         627\n",
      "last_review                          627\n",
      "review_scores_rating                 647\n",
      "review_scores_accuracy               658\n",
      "review_scores_cleanliness            653\n",
      "review_scores_checkin                658\n",
      "review_scores_communication          651\n",
      "review_scores_location               655\n",
      "review_scores_value                  656\n",
      "requires_license                       0\n",
      "license                             3818\n",
      "jurisdiction_names                     0\n",
      "instant_bookable                       0\n",
      "cancellation_policy                    0\n",
      "require_guest_profile_picture          0\n",
      "require_guest_phone_verification       0\n",
      "calculated_host_listings_count         0\n",
      "reviews_per_month                    627\n",
      "Length: 92, dtype: int64\n"
     ]
    }
   ],
   "source": [
    "# Assess null values\n",
    "print(SeatleListings.isnull().sum())"
   ]
  },
  {
   "cell_type": "code",
   "execution_count": 139,
   "metadata": {},
   "outputs": [
    {
     "name": "stdout",
     "output_type": "stream",
     "text": [
      "<class 'pandas.core.frame.DataFrame'>\n",
      "RangeIndex: 3818 entries, 0 to 3817\n",
      "Data columns (total 92 columns):\n",
      "id                                  3818 non-null int64\n",
      "listing_url                         3818 non-null object\n",
      "scrape_id                           3818 non-null int64\n",
      "last_scraped                        3818 non-null object\n",
      "name                                3818 non-null object\n",
      "summary                             3641 non-null object\n",
      "space                               3249 non-null object\n",
      "description                         3818 non-null object\n",
      "experiences_offered                 3818 non-null object\n",
      "neighborhood_overview               2786 non-null object\n",
      "notes                               2212 non-null object\n",
      "transit                             2884 non-null object\n",
      "thumbnail_url                       3498 non-null object\n",
      "medium_url                          3498 non-null object\n",
      "picture_url                         3818 non-null object\n",
      "xl_picture_url                      3498 non-null object\n",
      "host_id                             3818 non-null int64\n",
      "host_url                            3818 non-null object\n",
      "host_name                           3816 non-null object\n",
      "host_since                          3816 non-null object\n",
      "host_location                       3810 non-null object\n",
      "host_about                          2959 non-null object\n",
      "host_response_time                  3295 non-null object\n",
      "host_response_rate                  3295 non-null object\n",
      "host_acceptance_rate                3045 non-null object\n",
      "host_is_superhost                   3816 non-null object\n",
      "host_thumbnail_url                  3816 non-null object\n",
      "host_picture_url                    3816 non-null object\n",
      "host_neighbourhood                  3518 non-null object\n",
      "host_listings_count                 3816 non-null float64\n",
      "host_total_listings_count           3816 non-null float64\n",
      "host_verifications                  3818 non-null object\n",
      "host_has_profile_pic                3816 non-null object\n",
      "host_identity_verified              3816 non-null object\n",
      "street                              3818 non-null object\n",
      "neighbourhood                       3402 non-null object\n",
      "neighbourhood_cleansed              3818 non-null object\n",
      "neighbourhood_group_cleansed        3818 non-null object\n",
      "city                                3818 non-null object\n",
      "state                               3818 non-null object\n",
      "zipcode                             3811 non-null object\n",
      "market                              3818 non-null object\n",
      "smart_location                      3818 non-null object\n",
      "country_code                        3818 non-null object\n",
      "country                             3818 non-null object\n",
      "latitude                            3818 non-null float64\n",
      "longitude                           3818 non-null float64\n",
      "is_location_exact                   3818 non-null object\n",
      "property_type                       3817 non-null object\n",
      "room_type                           3818 non-null object\n",
      "accommodates                        3818 non-null int64\n",
      "bathrooms                           3802 non-null float64\n",
      "bedrooms                            3812 non-null float64\n",
      "beds                                3817 non-null float64\n",
      "bed_type                            3818 non-null object\n",
      "amenities                           3818 non-null object\n",
      "square_feet                         97 non-null float64\n",
      "price                               3818 non-null object\n",
      "weekly_price                        2009 non-null object\n",
      "monthly_price                       1517 non-null object\n",
      "security_deposit                    1866 non-null object\n",
      "cleaning_fee                        2788 non-null object\n",
      "guests_included                     3818 non-null int64\n",
      "extra_people                        3818 non-null object\n",
      "minimum_nights                      3818 non-null int64\n",
      "maximum_nights                      3818 non-null int64\n",
      "calendar_updated                    3818 non-null object\n",
      "has_availability                    3818 non-null object\n",
      "availability_30                     3818 non-null int64\n",
      "availability_60                     3818 non-null int64\n",
      "availability_90                     3818 non-null int64\n",
      "availability_365                    3818 non-null int64\n",
      "calendar_last_scraped               3818 non-null object\n",
      "number_of_reviews                   3818 non-null int64\n",
      "first_review                        3191 non-null object\n",
      "last_review                         3191 non-null object\n",
      "review_scores_rating                3171 non-null float64\n",
      "review_scores_accuracy              3160 non-null float64\n",
      "review_scores_cleanliness           3165 non-null float64\n",
      "review_scores_checkin               3160 non-null float64\n",
      "review_scores_communication         3167 non-null float64\n",
      "review_scores_location              3163 non-null float64\n",
      "review_scores_value                 3162 non-null float64\n",
      "requires_license                    3818 non-null object\n",
      "license                             0 non-null float64\n",
      "jurisdiction_names                  3818 non-null object\n",
      "instant_bookable                    3818 non-null object\n",
      "cancellation_policy                 3818 non-null object\n",
      "require_guest_profile_picture       3818 non-null object\n",
      "require_guest_phone_verification    3818 non-null object\n",
      "calculated_host_listings_count      3818 non-null int64\n",
      "reviews_per_month                   3191 non-null float64\n",
      "dtypes: float64(17), int64(13), object(62)\n",
      "memory usage: 2.7+ MB\n"
     ]
    }
   ],
   "source": [
    "SeatleListings.info()"
   ]
  },
  {
   "cell_type": "markdown",
   "metadata": {},
   "source": [
    "## 2.1.1.0 Exploring categrorical features"
   ]
  },
  {
   "cell_type": "code",
   "execution_count": 140,
   "metadata": {},
   "outputs": [
    {
     "name": "stdout",
     "output_type": "stream",
     "text": [
      "Value counts for experiences_offered:  none    3818\n",
      "Name: experiences_offered, dtype: int64\n"
     ]
    }
   ],
   "source": [
    "# Explore Categorical Feature - experiences_offered\n",
    "print('Value counts for experiences_offered: ', SeatleListings['experiences_offered'].value_counts())"
   ]
  },
  {
   "cell_type": "code",
   "execution_count": 141,
   "metadata": {},
   "outputs": [
    {
     "name": "stdout",
     "output_type": "stream",
     "text": [
      "Value counts for host_location:  Seattle, Washington, United States                             3259\n",
      "US                                                              246\n",
      "Spokane, Washington, United States                               41\n",
      "Kent, Washington, United States                                  34\n",
      "Los Angeles, California, United States                           13\n",
      "Bellevue, Washington, United States                              12\n",
      "San Francisco, California, United States                         11\n",
      "Mercer Island, Washington, United States                         10\n",
      "Kirkland, Washington, United States                               8\n",
      "New York, New York, United States                                 6\n",
      "Seattle                                                           5\n",
      "Shoreline, Washington, United States                              5\n",
      "Sammamish, Washington, United States                              5\n",
      "Vashon, Washington, United States                                 5\n",
      "San Diego, California, United States                              4\n",
      "Vancouver, Washington, United States                              4\n",
      "Portland, Oregon, United States                                   4\n",
      "Seattle, Washington                                               4\n",
      "Tucson, Arizona, United States                                    4\n",
      "Issaquah, Washington, United States                               3\n",
      "Washington State, United States                                   3\n",
      "Vancouver, British Columbia, Canada                               3\n",
      "Palm Springs, California, United States                           3\n",
      "Montezuma,Costas Rica  and Seattle Wasington, United States       3\n",
      "San Francisco, California                                         3\n",
      "Seattle/San Fransisco/Taipei                                      3\n",
      "Blaine, Washington, United States                                 3\n",
      "Boston, Massachusetts, United States                              2\n",
      "Seattle, WA                                                       2\n",
      "Seattle and Bellingham, Washington, United States                 2\n",
      "                                                               ... \n",
      "Snohomish, Washington, United States                              1\n",
      "Gosnold, Massachusetts, United States                             1\n",
      "California                                                        1\n",
      "Quilcene, Washington, United States                               1\n",
      "Hilo, Hawaii, United States                                       1\n",
      "Bothell, Washington, United States                                1\n",
      "Bangkok, Thailand                                                 1\n",
      "Kenmore, Washington, United States                                1\n",
      "Grosse Pointe Farms, Michigan, United States                      1\n",
      "Winston-Salem, North Carolina, United States                      1\n",
      "Sydney, New South Wales, Australia                                1\n",
      "Greenbank, Washington, United States                              1\n",
      "Ciudad Obregón, Sonora, Mexico                                    1\n",
      "Oakland, California, United States                                1\n",
      "Santa Fe, New Mexico, United States                               1\n",
      "Las Vegas, Nevada, United States                                  1\n",
      "Gig Harbor, Washington, United States                             1\n",
      "Bellingham, Washington, United States                             1\n",
      "Lincoln, Vermont, United States                                   1\n",
      "Long Beach, California, United States                             1\n",
      "Castle Rock, Washington, United States                            1\n",
      "Rome, Lazio, Italy                                                1\n",
      "Prescott Valley, Arizona, United States                           1\n",
      "Surprise, Arizona, United States                                  1\n",
      "Vashon Island, Seattle, WA                                        1\n",
      "Santa Monica, California, United States                           1\n",
      "Next door to cottage                                              1\n",
      "Kenilworth, Illinois, United States                               1\n",
      "Beijing, Beijing, China                                           1\n",
      "Camano Island                                                     1\n",
      "Name: host_location, Length: 120, dtype: int64\n"
     ]
    }
   ],
   "source": [
    "# Explore Categorical Feature - host_location\n",
    "print('Value counts for host_location: ', SeatleListings['host_location'].value_counts())"
   ]
  },
  {
   "cell_type": "markdown",
   "metadata": {},
   "source": [
    "\n",
    "\n",
    "**FINDINGS**\n",
    "\n",
    "The experiences offered are **None** for all rows. The host_location column can use some standardization if we are to use it for analysis. For example: **\"Seattle, Washington, United States\", \"Seattle\" and \"Seattle, Washington\"** should be considered as the same."
   ]
  },
  {
   "cell_type": "code",
   "execution_count": 142,
   "metadata": {},
   "outputs": [
    {
     "data": {
      "image/png": "[encoded data removed]",
      "text/plain": [
       "<Figure size 432x288 with 1 Axes>"
      ]
     },
     "metadata": {
      "needs_background": "light"
     },
     "output_type": "display_data"
    }
   ],
   "source": [
    "# Explore Categorical Feature - host_response_time\n",
    "\n",
    "host_response_vals = SeatleListings['host_response_time'].value_counts()\n",
    "(host_response_vals/SeatleListings.shape[0]).plot(kind=\"bar\");\n",
    "plt.title(\"Host Response Times\");\n",
    "plt.xticks(rotation = 90);"
   ]
  },
  {
   "cell_type": "markdown",
   "metadata": {},
   "source": [
    "\n",
    "\n",
    "**FINDINGS**\n",
    "\n",
    "it seems a good response time about **40%** response within one hour and it's downward trend"
   ]
  },
  {
   "cell_type": "code",
   "execution_count": 143,
   "metadata": {},
   "outputs": [
    {
     "data": {
      "image/png": "[encoded data removed]",
      "text/plain": [
       "<Figure size 432x288 with 1 Axes>"
      ]
     },
     "metadata": {
      "needs_background": "light"
     },
     "output_type": "display_data"
    }
   ],
   "source": [
    "# Explore Categorical Feature - neighborhood_group_cleansed\n",
    "\n",
    "neigh_vals = SeatleListings['neighbourhood_group_cleansed'].value_counts()\n",
    "(neigh_vals/SeatleListings.shape[0]).plot(kind=\"bar\");\n",
    "plt.title(\"Neighbourhood Group Cleansed\");\n",
    "plt.xticks(rotation = 90);"
   ]
  },
  {
   "cell_type": "code",
   "execution_count": 144,
   "metadata": {},
   "outputs": [
    {
     "data": {
      "image/png": "[encoded data removed]",
      "text/plain": [
       "<Figure size 432x288 with 1 Axes>"
      ]
     },
     "metadata": {
      "needs_background": "light"
     },
     "output_type": "display_data"
    }
   ],
   "source": [
    "# Explore Categorical Feature - property_type\n",
    "\n",
    "proparty_vals = SeatleListings['property_type'].value_counts()\n",
    "(proparty_vals/SeatleListings.shape[0]).plot(kind=\"bar\");\n",
    "plt.title(\"Property Type\");\n",
    "plt.xticks(rotation = 90);"
   ]
  },
  {
   "cell_type": "markdown",
   "metadata": {},
   "source": [
    "\n",
    "**FINDINGS**\n",
    "\n",
    "It's good to know that apartments and houses dominate the listings data set. We can focus on these if needed for any of our analysis."
   ]
  },
  {
   "cell_type": "markdown",
   "metadata": {},
   "source": [
    "# 2.1.2 Reviewes Dataset Exploration"
   ]
  },
  {
   "cell_type": "markdown",
   "metadata": {},
   "source": [
    "let's explore the Reviews data set. We wil be looking at a few things:\n",
    "\n",
    "1. Number of rows and columns in the dataset\n",
    "2. Columns with missing values and columns that have no missing values\n",
    "3. Describe the dataset to see features about each column"
   ]
  },
  {
   "cell_type": "code",
   "execution_count": 145,
   "metadata": {},
   "outputs": [
    {
     "name": "stdout",
     "output_type": "stream",
     "text": [
      "Number of rows in SeatleReviews are 84849 and number of columns are 6 : \n"
     ]
    }
   ],
   "source": [
    "# Print rows and columns in Reviews data set\n",
    "print(\"Number of rows in SeatleReviews are {} and number of columns are {} : \".format(SeatleReviews.shape[0],SeatleReviews.shape[1]))"
   ]
  },
  {
   "cell_type": "code",
   "execution_count": 146,
   "metadata": {},
   "outputs": [
    {
     "name": "stdout",
     "output_type": "stream",
     "text": [
      "listing_id        0\n",
      "id                0\n",
      "date              0\n",
      "reviewer_id       0\n",
      "reviewer_name     0\n",
      "comments         18\n",
      "dtype: int64\n"
     ]
    }
   ],
   "source": [
    "# Assess null values\n",
    "print(SeatleReviews.isnull().sum())"
   ]
  },
  {
   "cell_type": "code",
   "execution_count": 147,
   "metadata": {},
   "outputs": [
    {
     "name": "stdout",
     "output_type": "stream",
     "text": [
      "          listing_id            id        date   reviewer_id reviewer_name  \\\n",
      "count   8.484900e+04  8.484900e+04       84849  8.484900e+04         84849   \n",
      "unique           NaN           NaN        1930           NaN         14380   \n",
      "top              NaN           NaN  2015-09-21           NaN         David   \n",
      "freq             NaN           NaN         580           NaN           870   \n",
      "mean    3.005067e+06  3.058765e+07         NaN  1.701301e+07           NaN   \n",
      "std     2.472877e+06  1.636613e+07         NaN  1.353704e+07           NaN   \n",
      "min     4.291000e+03  3.721000e+03         NaN  1.500000e+01           NaN   \n",
      "25%     7.946330e+05  1.725127e+07         NaN  5.053141e+06           NaN   \n",
      "50%     2.488228e+06  3.228809e+07         NaN  1.413476e+07           NaN   \n",
      "75%     4.694479e+06  4.457648e+07         NaN  2.762402e+07           NaN   \n",
      "max     1.024814e+07  5.873651e+07         NaN  5.281274e+07           NaN   \n",
      "\n",
      "                                                 comments  \n",
      "count                                               84831  \n",
      "unique                                              84136  \n",
      "top     The host canceled this reservation the day bef...  \n",
      "freq                                                   57  \n",
      "mean                                                  NaN  \n",
      "std                                                   NaN  \n",
      "min                                                   NaN  \n",
      "25%                                                   NaN  \n",
      "50%                                                   NaN  \n",
      "75%                                                   NaN  \n",
      "max                                                   NaN  \n"
     ]
    }
   ],
   "source": [
    "# Describe to get a quick look at our data stats\n",
    "print(SeatleReviews.describe(include='all'))"
   ]
  },
  {
   "cell_type": "markdown",
   "metadata": {},
   "source": [
    "# 3. DATA PREPARATION"
   ]
  },
  {
   "cell_type": "markdown",
   "metadata": {},
   "source": [
    "## Question 1 - PRICE ANALYSIS\n",
    "**1.** Understand price increases/decreases by season and detect peak season in Seattle\n",
    "\n",
    "**2.** Understand price increases/decreases by neighborhood and detect pricey neighborhoods in Seattle\n",
    "\n",
    "**3.** Understand how property types within neighborhoods impact price for a handful of neighborhoods and property types\n",
    "\n"
   ]
  },
  {
   "cell_type": "code",
   "execution_count": 148,
   "metadata": {},
   "outputs": [],
   "source": [
    "# First we need to extract the year and month part of date column in SeatelCalender\n",
    "\n",
    "SeatleCalender['year'] = pd.DatetimeIndex(SeatleCalender['date']).year\n",
    "SeatleCalender['month'] = pd.DatetimeIndex(SeatleCalender['date']).month\n",
    "\n",
    "# to calculate the average for the price we need first to convert it into a numerical values as it is object in the dataset\n",
    "SeatleCalender['price'] = SeatleCalender['price'].str.replace('$', '').str.replace(',','').astype('float')\n"
   ]
  },
  {
   "cell_type": "code",
   "execution_count": 149,
   "metadata": {},
   "outputs": [
    {
     "data": {
      "image/png": "[encoded data removed]",
      "text/plain": [
       "<Figure size 432x288 with 1 Axes>"
      ]
     },
     "metadata": {
      "needs_background": "light"
     },
     "output_type": "display_data"
    }
   ],
   "source": [
    "SeatleCalender.groupby(['year','month'])[['price']].mean().plot(kind=\"bar\");\n",
    "plt.title(\"Average price Grouped by year and month in Seatle\");\n",
    "plt.xticks(rotation = 90);"
   ]
  },
  {
   "cell_type": "markdown",
   "metadata": {},
   "source": [
    "\n",
    "**FINDINGS**\n",
    "\n",
    "Based on the above chart, it shows that June through August are the peak months, with July being the highest. A quick Google search (https://santorinidave.com/best-time-to-visit-seattle) and this link also (https://www.tripsavvy.com/the-best-time-to-visit-seattle-4175385) confirms my assumption that these months have the best weather in Seattle with summer in full swing and low chances of rain.\n",
    "\n",
    "Also, it seems like the year starts slow, with January having the lowest average price. Towards Spring and the holiday season, prices start to pick back up a little around Apr/May and Nov/Dec respectively."
   ]
  },
  {
   "cell_type": "code",
   "execution_count": 150,
   "metadata": {},
   "outputs": [
    {
     "data": {
      "image/png": "[encoded data removed]",
      "text/plain": [
       "<Figure size 432x288 with 1 Axes>"
      ]
     },
     "metadata": {
      "needs_background": "light"
     },
     "output_type": "display_data"
    }
   ],
   "source": [
    "#plot average price for each neighbourhood\n",
    "SeatleListings['price'] = SeatleListings['price'].replace('[\\$,]', '', regex=True).astype(float)\n",
    "\n",
    "SeatleListings.groupby(['neighbourhood_cleansed'])[['price']].mean().plot();\n",
    "plt.title(\"Average price Grouped by Neighbourhood in Seatle\");\n",
    "plt.xticks(rotation = 90);"
   ]
  },
  {
   "cell_type": "code",
   "execution_count": 151,
   "metadata": {},
   "outputs": [
    {
     "data": {
      "image/png": "[encoded data removed]",
      "text/plain": [
       "<Figure size 432x288 with 1 Axes>"
      ]
     },
     "metadata": {
      "needs_background": "light"
     },
     "output_type": "display_data"
    }
   ],
   "source": [
    "# Plot top 10 neighborhoods\n",
    "\n",
    "top_10_neighbourhood = SeatleListings.groupby(['neighbourhood_cleansed'])[['price']].mean().sort_values(by='price',ascending=False).head(10)\n",
    "top_10_neighbourhood.plot(kind='bar');\n",
    "plt.title(\"Top 10 Average price Grouped by Neighbourhood in Seatle\");\n",
    "plt.xticks(rotation = 90);"
   ]
  },
  {
   "cell_type": "code",
   "execution_count": 152,
   "metadata": {},
   "outputs": [
    {
     "data": {
      "image/png": "[encoded data removed]",
      "text/plain": [
       "<Figure size 432x288 with 1 Axes>"
      ]
     },
     "metadata": {
      "needs_background": "light"
     },
     "output_type": "display_data"
    }
   ],
   "source": [
    "# Plot bottom 10 neighborhoods\n",
    "\n",
    "bottom_10_neighbourhood = SeatleListings.groupby(['neighbourhood_cleansed'])[['price']].mean().sort_values(by='price',ascending=False).tail(10)\n",
    "bottom_10_neighbourhood.plot(kind='bar');\n",
    "plt.title(\"Bottom 10 Average price Grouped by Neighbourhood in Seatle\");\n",
    "plt.xticks(rotation = 90);"
   ]
  },
  {
   "cell_type": "markdown",
   "metadata": {},
   "source": [
    "\n",
    "**FINDINGS**\n",
    "\n",
    "Based on the above analysis, there is definitely price fluctuations based on neighborhoods. The Southeast Magnolia neighborhood seems like the priciest of all, averaging at **$231**.\n",
    "\n",
    "Followed by Portage Bay at **$227**.\n",
    "\n",
    "Rainier Beach seems like the cheapest at **$68** average price."
   ]
  },
  {
   "cell_type": "code",
   "execution_count": 153,
   "metadata": {},
   "outputs": [
    {
     "data": {
      "text/html": [
       "<div>\n",
       "<style scoped>\n",
       "    .dataframe tbody tr th:only-of-type {\n",
       "        vertical-align: middle;\n",
       "    }\n",
       "\n",
       "    .dataframe tbody tr th {\n",
       "        vertical-align: top;\n",
       "    }\n",
       "\n",
       "    .dataframe thead th {\n",
       "        text-align: right;\n",
       "    }\n",
       "</style>\n",
       "<table border=\"1\" class=\"dataframe\">\n",
       "  <thead>\n",
       "    <tr style=\"text-align: right;\">\n",
       "      <th></th>\n",
       "      <th>neighbourhood_cleansed</th>\n",
       "      <th>property_type</th>\n",
       "      <th>price</th>\n",
       "    </tr>\n",
       "  </thead>\n",
       "  <tbody>\n",
       "    <tr>\n",
       "      <th>0</th>\n",
       "      <td>Montlake</td>\n",
       "      <td>Apartment</td>\n",
       "      <td>133.333333</td>\n",
       "    </tr>\n",
       "    <tr>\n",
       "      <th>1</th>\n",
       "      <td>Montlake</td>\n",
       "      <td>House</td>\n",
       "      <td>191.533333</td>\n",
       "    </tr>\n",
       "    <tr>\n",
       "      <th>2</th>\n",
       "      <td>Portage Bay</td>\n",
       "      <td>Apartment</td>\n",
       "      <td>113.833333</td>\n",
       "    </tr>\n",
       "    <tr>\n",
       "      <th>3</th>\n",
       "      <td>Portage Bay</td>\n",
       "      <td>House</td>\n",
       "      <td>340.285714</td>\n",
       "    </tr>\n",
       "    <tr>\n",
       "      <th>4</th>\n",
       "      <td>Southeast Magnolia</td>\n",
       "      <td>Apartment</td>\n",
       "      <td>219.600000</td>\n",
       "    </tr>\n",
       "    <tr>\n",
       "      <th>5</th>\n",
       "      <td>Southeast Magnolia</td>\n",
       "      <td>House</td>\n",
       "      <td>234.100000</td>\n",
       "    </tr>\n",
       "    <tr>\n",
       "      <th>6</th>\n",
       "      <td>West Queen Anne</td>\n",
       "      <td>Apartment</td>\n",
       "      <td>128.208333</td>\n",
       "    </tr>\n",
       "    <tr>\n",
       "      <th>7</th>\n",
       "      <td>West Queen Anne</td>\n",
       "      <td>House</td>\n",
       "      <td>247.393939</td>\n",
       "    </tr>\n",
       "    <tr>\n",
       "      <th>8</th>\n",
       "      <td>Westlake</td>\n",
       "      <td>Apartment</td>\n",
       "      <td>142.400000</td>\n",
       "    </tr>\n",
       "    <tr>\n",
       "      <th>9</th>\n",
       "      <td>Westlake</td>\n",
       "      <td>House</td>\n",
       "      <td>168.000000</td>\n",
       "    </tr>\n",
       "  </tbody>\n",
       "</table>\n",
       "</div>"
      ],
      "text/plain": [
       "  neighbourhood_cleansed property_type       price\n",
       "0               Montlake     Apartment  133.333333\n",
       "1               Montlake         House  191.533333\n",
       "2            Portage Bay     Apartment  113.833333\n",
       "3            Portage Bay         House  340.285714\n",
       "4     Southeast Magnolia     Apartment  219.600000\n",
       "5     Southeast Magnolia         House  234.100000\n",
       "6        West Queen Anne     Apartment  128.208333\n",
       "7        West Queen Anne         House  247.393939\n",
       "8               Westlake     Apartment  142.400000\n",
       "9               Westlake         House  168.000000"
      ]
     },
     "execution_count": 153,
     "metadata": {},
     "output_type": "execute_result"
    }
   ],
   "source": [
    "# Explore property types within neighborhoods and how they impact price\n",
    "# Focus on the top 5 expensive Neighborhoods from above - Southeast Magnolia, Portage Bay, Westlake, West Queen Anne and Montlake\n",
    "# Focus on property types - House and Apartment\n",
    "\n",
    "values_high_neigh = ('Southeast Magnolia','Portage Bay','Westlake','West Queen Anne','Montlake')\n",
    "interting_prop = ('Apartment','House')\n",
    "top_neighbourhood = SeatleListings.loc[SeatleListings['neighbourhood_cleansed'].isin(values_high_neigh)]\n",
    "top_neighbourhood_interting_prop = top_neighbourhood.loc[SeatleListings['property_type'].isin(interting_prop)]\n",
    "\n",
    "top_neighbourhood_prop_grouped =top_neighbourhood_interting_prop.groupby(['neighbourhood_cleansed','property_type'])[['price']].mean().reset_index()\n",
    "top_neighbourhood_prop_grouped"
   ]
  },
  {
   "cell_type": "code",
   "execution_count": 154,
   "metadata": {},
   "outputs": [
    {
     "data": {
      "text/plain": [
       "(5, 2)"
      ]
     },
     "execution_count": 154,
     "metadata": {},
     "output_type": "execute_result"
    }
   ],
   "source": [
    "price_arr =top_neighbourhood_prop_grouped['price'].values\n",
    "price_arr = np.reshape(price_arr, (5,2))\n",
    "price_arr.shape"
   ]
  },
  {
   "cell_type": "code",
   "execution_count": 155,
   "metadata": {},
   "outputs": [
    {
     "data": {
      "image/png": "[encoded data removed]",
      "text/plain": [
       "<Figure size 432x288 with 2 Axes>"
      ]
     },
     "metadata": {
      "needs_background": "light"
     },
     "output_type": "display_data"
    }
   ],
   "source": [
    "# we will plot a heat map to find proportion of prices by neighbourhood and proparty type \n",
    "\n",
    "indx = ['Southeast Magnolia','Portage Bay','Westlake','West Queen Anne','Montlake']\n",
    "cols = ['Apartment', 'House']\n",
    "df = pd.DataFrame(price_arr, index=indx, columns=cols)\n",
    "\n",
    "# _r reverses the normal order of the color map 'RdYlGn'\n",
    "sns.heatmap(df, cmap='seismic', linewidths=0.5, annot=True);"
   ]
  },
  {
   "cell_type": "markdown",
   "metadata": {},
   "source": [
    "\n",
    "\n",
    "**FINDINGS**\n",
    "\n",
    "We focused on the top 5 expensive neighbourhoods from the above analysis as well as Houses and Apartments mostly since based on the previous analysis, we know they make up a good percentage of property types.\n",
    "\n",
    "Based on the above, we can see that Houses in Portage Bay are the most expensive followed by Houses in West Queen Anne and Westlake. It is interesting to note that in Westlake, both Houses and Apartments can be found at approx. the same price."
   ]
  },
  {
   "cell_type": "markdown",
   "metadata": {},
   "source": [
    "# Question 2 - SENTIMENT ANALYSIS OF REVIEWS\n",
    "\n",
    "\n",
    "**1.** Understand positive and negative sentiments from review comments\n",
    "\n",
    "**2.** Map the positive and negative sentiments to neighborhoods to understand which neighborhoonds rank higher on the positive sentiment scale and which ones rank higher on the negative sentiment scale\n",
    "\n",
    "**3.** Explore some of the worst reviews"
   ]
  },
  {
   "cell_type": "code",
   "execution_count": 156,
   "metadata": {},
   "outputs": [
    {
     "data": {
      "text/html": [
       "<div>\n",
       "<style scoped>\n",
       "    .dataframe tbody tr th:only-of-type {\n",
       "        vertical-align: middle;\n",
       "    }\n",
       "\n",
       "    .dataframe tbody tr th {\n",
       "        vertical-align: top;\n",
       "    }\n",
       "\n",
       "    .dataframe thead th {\n",
       "        text-align: right;\n",
       "    }\n",
       "</style>\n",
       "<table border=\"1\" class=\"dataframe\">\n",
       "  <thead>\n",
       "    <tr style=\"text-align: right;\">\n",
       "      <th></th>\n",
       "      <th>listing_id</th>\n",
       "      <th>comments</th>\n",
       "    </tr>\n",
       "  </thead>\n",
       "  <tbody>\n",
       "    <tr>\n",
       "      <th>0</th>\n",
       "      <td>7202016</td>\n",
       "      <td>Cute and cozy place. Perfect location to every...</td>\n",
       "    </tr>\n",
       "    <tr>\n",
       "      <th>1</th>\n",
       "      <td>7202016</td>\n",
       "      <td>Kelly has a great room in a very central locat...</td>\n",
       "    </tr>\n",
       "    <tr>\n",
       "      <th>2</th>\n",
       "      <td>7202016</td>\n",
       "      <td>Very spacious apartment, and in a great neighb...</td>\n",
       "    </tr>\n",
       "    <tr>\n",
       "      <th>3</th>\n",
       "      <td>7202016</td>\n",
       "      <td>Close to Seattle Center and all it has to offe...</td>\n",
       "    </tr>\n",
       "    <tr>\n",
       "      <th>4</th>\n",
       "      <td>7202016</td>\n",
       "      <td>Kelly was a great host and very accommodating ...</td>\n",
       "    </tr>\n",
       "  </tbody>\n",
       "</table>\n",
       "</div>"
      ],
      "text/plain": [
       "   listing_id                                           comments\n",
       "0     7202016  Cute and cozy place. Perfect location to every...\n",
       "1     7202016  Kelly has a great room in a very central locat...\n",
       "2     7202016  Very spacious apartment, and in a great neighb...\n",
       "3     7202016  Close to Seattle Center and all it has to offe...\n",
       "4     7202016  Kelly was a great host and very accommodating ..."
      ]
     },
     "execution_count": 156,
     "metadata": {},
     "output_type": "execute_result"
    }
   ],
   "source": [
    "# Create a smaller data frame with just listing ids and review comments\n",
    "SeatleReviews_Comments = SeatleReviews[['listing_id', 'comments']].copy()\n",
    "SeatleReviews_Comments.head()"
   ]
  },
  {
   "cell_type": "code",
   "execution_count": 157,
   "metadata": {},
   "outputs": [
    {
     "data": {
      "text/plain": [
       "'West Queen Anne'"
      ]
     },
     "execution_count": 157,
     "metadata": {},
     "output_type": "execute_result"
    }
   ],
   "source": [
    "# Function to take a listing id and pass back the neighbourhood_cleansed field from the listings data set\n",
    "# Initially, I tried with the neighbourhood field in the listings dataset,\n",
    "#but found that some values were blank, so I used neighbourhood_cleansed field\n",
    "\n",
    "\n",
    "def get_neighborhood(listing_id):\n",
    "    '''\n",
    "    Function to take a listing id and pass back the neighbourhood_cleansed field from the SeatleListings data set\n",
    "    \n",
    "    INPUT:\n",
    "    listing_id - listing_id field for a particular listing\n",
    "    \n",
    "    OUTPUT:\n",
    "    neighbourhood - the neighbourhood_cleansed field associated with a particular listing_id\n",
    "    \n",
    "    Helps to map each listing_id to it's respective neighbourhood in order to associate reviews with neighbourhoods\n",
    "    '''\n",
    "    neighbourhood = SeatleListings.loc[SeatleListings['id'] == listing_id, 'neighbourhood_cleansed'].iloc[0]\n",
    "    \n",
    "    return neighbourhood\n",
    "\n",
    "# Test function\n",
    "get_neighborhood(241032)"
   ]
  },
  {
   "cell_type": "code",
   "execution_count": 158,
   "metadata": {},
   "outputs": [
    {
     "data": {
      "text/html": [
       "<div>\n",
       "<style scoped>\n",
       "    .dataframe tbody tr th:only-of-type {\n",
       "        vertical-align: middle;\n",
       "    }\n",
       "\n",
       "    .dataframe tbody tr th {\n",
       "        vertical-align: top;\n",
       "    }\n",
       "\n",
       "    .dataframe thead th {\n",
       "        text-align: right;\n",
       "    }\n",
       "</style>\n",
       "<table border=\"1\" class=\"dataframe\">\n",
       "  <thead>\n",
       "    <tr style=\"text-align: right;\">\n",
       "      <th></th>\n",
       "      <th>listing_id</th>\n",
       "      <th>comments</th>\n",
       "      <th>neighbourhood</th>\n",
       "    </tr>\n",
       "  </thead>\n",
       "  <tbody>\n",
       "    <tr>\n",
       "      <th>0</th>\n",
       "      <td>7202016</td>\n",
       "      <td>Cute and cozy place. Perfect location to every...</td>\n",
       "      <td>Lower Queen Anne</td>\n",
       "    </tr>\n",
       "    <tr>\n",
       "      <th>1</th>\n",
       "      <td>7202016</td>\n",
       "      <td>Kelly has a great room in a very central locat...</td>\n",
       "      <td>Lower Queen Anne</td>\n",
       "    </tr>\n",
       "    <tr>\n",
       "      <th>2</th>\n",
       "      <td>7202016</td>\n",
       "      <td>Very spacious apartment, and in a great neighb...</td>\n",
       "      <td>Lower Queen Anne</td>\n",
       "    </tr>\n",
       "    <tr>\n",
       "      <th>3</th>\n",
       "      <td>7202016</td>\n",
       "      <td>Close to Seattle Center and all it has to offe...</td>\n",
       "      <td>Lower Queen Anne</td>\n",
       "    </tr>\n",
       "    <tr>\n",
       "      <th>4</th>\n",
       "      <td>7202016</td>\n",
       "      <td>Kelly was a great host and very accommodating ...</td>\n",
       "      <td>Lower Queen Anne</td>\n",
       "    </tr>\n",
       "  </tbody>\n",
       "</table>\n",
       "</div>"
      ],
      "text/plain": [
       "   listing_id                                           comments  \\\n",
       "0     7202016  Cute and cozy place. Perfect location to every...   \n",
       "1     7202016  Kelly has a great room in a very central locat...   \n",
       "2     7202016  Very spacious apartment, and in a great neighb...   \n",
       "3     7202016  Close to Seattle Center and all it has to offe...   \n",
       "4     7202016  Kelly was a great host and very accommodating ...   \n",
       "\n",
       "      neighbourhood  \n",
       "0  Lower Queen Anne  \n",
       "1  Lower Queen Anne  \n",
       "2  Lower Queen Anne  \n",
       "3  Lower Queen Anne  \n",
       "4  Lower Queen Anne  "
      ]
     },
     "execution_count": 158,
     "metadata": {},
     "output_type": "execute_result"
    }
   ],
   "source": [
    "# Apply get_neighborhood function to the listing ids\n",
    "\n",
    "SeatleReviews_Comments['neighbourhood'] = SeatleReviews_Comments['listing_id'].apply(get_neighborhood)\n",
    "SeatleReviews_Comments.head()"
   ]
  },
  {
   "cell_type": "code",
   "execution_count": 159,
   "metadata": {},
   "outputs": [
    {
     "data": {
      "text/plain": [
       "0"
      ]
     },
     "execution_count": 159,
     "metadata": {},
     "output_type": "execute_result"
    }
   ],
   "source": [
    "# Check to see if any listing ids don't have neighborhoods associated\n",
    "SeatleReviews_Comments['neighbourhood'].isnull().sum()"
   ]
  },
  {
   "cell_type": "code",
   "execution_count": 160,
   "metadata": {},
   "outputs": [
    {
     "name": "stderr",
     "output_type": "stream",
     "text": [
      "[nltk_data] Downloading package vader_lexicon to C:\\Users\\Eng-\n",
      "[nltk_data]     mody\\AppData\\Roaming\\nltk_data...\n",
      "[nltk_data]   Package vader_lexicon is already up-to-date!\n"
     ]
    },
    {
     "data": {
      "text/plain": [
       "True"
      ]
     },
     "execution_count": 160,
     "metadata": {},
     "output_type": "execute_result"
    }
   ],
   "source": [
    "nltk.download('vader_lexicon')\n"
   ]
  },
  {
   "cell_type": "code",
   "execution_count": 161,
   "metadata": {
    "scrolled": true
   },
   "outputs": [
    {
     "data": {
      "text/html": [
       "<div>\n",
       "<style scoped>\n",
       "    .dataframe tbody tr th:only-of-type {\n",
       "        vertical-align: middle;\n",
       "    }\n",
       "\n",
       "    .dataframe tbody tr th {\n",
       "        vertical-align: top;\n",
       "    }\n",
       "\n",
       "    .dataframe thead th {\n",
       "        text-align: right;\n",
       "    }\n",
       "</style>\n",
       "<table border=\"1\" class=\"dataframe\">\n",
       "  <thead>\n",
       "    <tr style=\"text-align: right;\">\n",
       "      <th></th>\n",
       "      <th>listing_id</th>\n",
       "      <th>comments</th>\n",
       "      <th>neighbourhood</th>\n",
       "      <th>polarity_score</th>\n",
       "    </tr>\n",
       "  </thead>\n",
       "  <tbody>\n",
       "    <tr>\n",
       "      <th>0</th>\n",
       "      <td>7202016</td>\n",
       "      <td>Cute and cozy place. Perfect location to every...</td>\n",
       "      <td>Lower Queen Anne</td>\n",
       "      <td>0.7901</td>\n",
       "    </tr>\n",
       "    <tr>\n",
       "      <th>1</th>\n",
       "      <td>7202016</td>\n",
       "      <td>Kelly has a great room in a very central locat...</td>\n",
       "      <td>Lower Queen Anne</td>\n",
       "      <td>0.9872</td>\n",
       "    </tr>\n",
       "    <tr>\n",
       "      <th>2</th>\n",
       "      <td>7202016</td>\n",
       "      <td>Very spacious apartment, and in a great neighb...</td>\n",
       "      <td>Lower Queen Anne</td>\n",
       "      <td>0.8718</td>\n",
       "    </tr>\n",
       "    <tr>\n",
       "      <th>3</th>\n",
       "      <td>7202016</td>\n",
       "      <td>Close to Seattle Center and all it has to offe...</td>\n",
       "      <td>Lower Queen Anne</td>\n",
       "      <td>0.8313</td>\n",
       "    </tr>\n",
       "    <tr>\n",
       "      <th>4</th>\n",
       "      <td>7202016</td>\n",
       "      <td>Kelly was a great host and very accommodating ...</td>\n",
       "      <td>Lower Queen Anne</td>\n",
       "      <td>0.9783</td>\n",
       "    </tr>\n",
       "  </tbody>\n",
       "</table>\n",
       "</div>"
      ],
      "text/plain": [
       "   listing_id                                           comments  \\\n",
       "0     7202016  Cute and cozy place. Perfect location to every...   \n",
       "1     7202016  Kelly has a great room in a very central locat...   \n",
       "2     7202016  Very spacious apartment, and in a great neighb...   \n",
       "3     7202016  Close to Seattle Center and all it has to offe...   \n",
       "4     7202016  Kelly was a great host and very accommodating ...   \n",
       "\n",
       "      neighbourhood  polarity_score  \n",
       "0  Lower Queen Anne          0.7901  \n",
       "1  Lower Queen Anne          0.9872  \n",
       "2  Lower Queen Anne          0.8718  \n",
       "3  Lower Queen Anne          0.8313  \n",
       "4  Lower Queen Anne          0.9783  "
      ]
     },
     "execution_count": 161,
     "metadata": {},
     "output_type": "execute_result"
    }
   ],
   "source": [
    "# SentimentIntensityAnalyzer reference: https://medium.com/analytics-vidhya/simplifying-social-media-sentiment-analysis-using-vader-in-python-f9e6ec6fc52f\n",
    "\n",
    "analyser = SentimentIntensityAnalyzer()\n",
    "\n",
    "def sentiment_analyzer_scores(sentence):\n",
    "    '''\n",
    "    Function to run sentiment intensity analyzer on a sentence and return compound polarity score\n",
    "    INPUT:\n",
    "    sentence - the text of the review comments \n",
    "    OUTPUT:\n",
    "    score['compound'] - the compound score combining the positive, negative and neutral scores\n",
    "    \n",
    "    Provides the compound score for a particular sentence for sentiment analysis\n",
    "    '''\n",
    "    sentence = str(sentence)\n",
    "    score = analyser.polarity_scores(sentence)\n",
    "    return score['compound']\n",
    "\n",
    "\n",
    "SeatleReviews_Comments['polarity_score'] =SeatleReviews_Comments['comments'].apply(sentiment_analyzer_scores)\n",
    "SeatleReviews_Comments.head()"
   ]
  },
  {
   "cell_type": "code",
   "execution_count": 162,
   "metadata": {},
   "outputs": [
    {
     "name": "stdout",
     "output_type": "stream",
     "text": [
      "Positive compound scores:  82444\n",
      "Negative compound scores:  849\n",
      "Neutral compound scores:  1556\n"
     ]
    }
   ],
   "source": [
    "# Print number of positive, negative and neutral compound polarity scores\n",
    "print('Positive compound scores: ',SeatleReviews_Comments['polarity_score'][SeatleReviews_Comments['polarity_score'] > 0].count())\n",
    "print('Negative compound scores: ',SeatleReviews_Comments['polarity_score'][SeatleReviews_Comments['polarity_score'] < 0].count())\n",
    "print('Neutral compound scores: ',SeatleReviews_Comments['polarity_score'][SeatleReviews_Comments['polarity_score'] == 0].count())"
   ]
  },
  {
   "cell_type": "code",
   "execution_count": 163,
   "metadata": {},
   "outputs": [
    {
     "data": {
      "text/html": [
       "<div>\n",
       "<style scoped>\n",
       "    .dataframe tbody tr th:only-of-type {\n",
       "        vertical-align: middle;\n",
       "    }\n",
       "\n",
       "    .dataframe tbody tr th {\n",
       "        vertical-align: top;\n",
       "    }\n",
       "\n",
       "    .dataframe thead th {\n",
       "        text-align: right;\n",
       "    }\n",
       "</style>\n",
       "<table border=\"1\" class=\"dataframe\">\n",
       "  <thead>\n",
       "    <tr style=\"text-align: right;\">\n",
       "      <th></th>\n",
       "      <th>polarity_score</th>\n",
       "    </tr>\n",
       "    <tr>\n",
       "      <th>neighbourhood</th>\n",
       "      <th></th>\n",
       "    </tr>\n",
       "  </thead>\n",
       "  <tbody>\n",
       "    <tr>\n",
       "      <th>Roxhill</th>\n",
       "      <td>0.946186</td>\n",
       "    </tr>\n",
       "    <tr>\n",
       "      <th>Cedar Park</th>\n",
       "      <td>0.940441</td>\n",
       "    </tr>\n",
       "    <tr>\n",
       "      <th>Pinehurst</th>\n",
       "      <td>0.939010</td>\n",
       "    </tr>\n",
       "    <tr>\n",
       "      <th>Arbor Heights</th>\n",
       "      <td>0.937228</td>\n",
       "    </tr>\n",
       "    <tr>\n",
       "      <th>Windermere</th>\n",
       "      <td>0.935011</td>\n",
       "    </tr>\n",
       "  </tbody>\n",
       "</table>\n",
       "</div>"
      ],
      "text/plain": [
       "               polarity_score\n",
       "neighbourhood                \n",
       "Roxhill              0.946186\n",
       "Cedar Park           0.940441\n",
       "Pinehurst            0.939010\n",
       "Arbor Heights        0.937228\n",
       "Windermere           0.935011"
      ]
     },
     "execution_count": 163,
     "metadata": {},
     "output_type": "execute_result"
    }
   ],
   "source": [
    "# Group by neighbourhood and average the polarity scores\n",
    "\n",
    "neigh_polarity = SeatleReviews_Comments.groupby('neighbourhood')[['polarity_score']].mean().sort_values(by='polarity_score',ascending=False)\n",
    "neigh_polarity.head()"
   ]
  },
  {
   "cell_type": "code",
   "execution_count": 164,
   "metadata": {},
   "outputs": [
    {
     "data": {
      "text/html": [
       "<div>\n",
       "<style scoped>\n",
       "    .dataframe tbody tr th:only-of-type {\n",
       "        vertical-align: middle;\n",
       "    }\n",
       "\n",
       "    .dataframe tbody tr th {\n",
       "        vertical-align: top;\n",
       "    }\n",
       "\n",
       "    .dataframe thead th {\n",
       "        text-align: right;\n",
       "    }\n",
       "</style>\n",
       "<table border=\"1\" class=\"dataframe\">\n",
       "  <thead>\n",
       "    <tr style=\"text-align: right;\">\n",
       "      <th></th>\n",
       "      <th>polarity_score</th>\n",
       "    </tr>\n",
       "    <tr>\n",
       "      <th>neighbourhood</th>\n",
       "      <th></th>\n",
       "    </tr>\n",
       "  </thead>\n",
       "  <tbody>\n",
       "    <tr>\n",
       "      <th>Mid-Beacon Hill</th>\n",
       "      <td>0.842078</td>\n",
       "    </tr>\n",
       "    <tr>\n",
       "      <th>South Beacon Hill</th>\n",
       "      <td>0.835181</td>\n",
       "    </tr>\n",
       "    <tr>\n",
       "      <th>University District</th>\n",
       "      <td>0.812145</td>\n",
       "    </tr>\n",
       "    <tr>\n",
       "      <th>Holly Park</th>\n",
       "      <td>0.802386</td>\n",
       "    </tr>\n",
       "    <tr>\n",
       "      <th>View Ridge</th>\n",
       "      <td>0.796942</td>\n",
       "    </tr>\n",
       "  </tbody>\n",
       "</table>\n",
       "</div>"
      ],
      "text/plain": [
       "                     polarity_score\n",
       "neighbourhood                      \n",
       "Mid-Beacon Hill            0.842078\n",
       "South Beacon Hill          0.835181\n",
       "University District        0.812145\n",
       "Holly Park                 0.802386\n",
       "View Ridge                 0.796942"
      ]
     },
     "execution_count": 164,
     "metadata": {},
     "output_type": "execute_result"
    }
   ],
   "source": [
    "neigh_polarity.tail()"
   ]
  },
  {
   "cell_type": "code",
   "execution_count": 165,
   "metadata": {},
   "outputs": [
    {
     "data": {
      "image/png": "[encoded data removed]",
      "text/plain": [
       "<Figure size 432x288 with 1 Axes>"
      ]
     },
     "metadata": {
      "needs_background": "light"
     },
     "output_type": "display_data"
    }
   ],
   "source": [
    "# Visualize top neighborhoods based on reviews\n",
    "\n",
    "neigh_polarity.head(10).plot(kind='bar');"
   ]
  },
  {
   "cell_type": "code",
   "execution_count": 166,
   "metadata": {},
   "outputs": [
    {
     "data": {
      "image/png": "[encoded data removed]",
      "text/plain": [
       "<Figure size 432x288 with 1 Axes>"
      ]
     },
     "metadata": {
      "needs_background": "light"
     },
     "output_type": "display_data"
    }
   ],
   "source": [
    "# Visualize bottom 10 neighborhoods based on reviews\n",
    "\n",
    "neigh_polarity.tail(10).plot(kind='bar');"
   ]
  },
  {
   "cell_type": "markdown",
   "metadata": {},
   "source": [
    "\n",
    "\n",
    "**FINDINGS**\n",
    "\n",
    "**Roxhill, Cedar Park and Pinehurst** are some of the neighborhoods that have top reviews. Relatively, the lower ranking neighborhoods are **University District, Holly Park and View Ridge**"
   ]
  },
  {
   "cell_type": "code",
   "execution_count": 167,
   "metadata": {},
   "outputs": [
    {
     "data": {
      "text/html": [
       "<div>\n",
       "<style scoped>\n",
       "    .dataframe tbody tr th:only-of-type {\n",
       "        vertical-align: middle;\n",
       "    }\n",
       "\n",
       "    .dataframe tbody tr th {\n",
       "        vertical-align: top;\n",
       "    }\n",
       "\n",
       "    .dataframe thead th {\n",
       "        text-align: right;\n",
       "    }\n",
       "</style>\n",
       "<table border=\"1\" class=\"dataframe\">\n",
       "  <thead>\n",
       "    <tr style=\"text-align: right;\">\n",
       "      <th></th>\n",
       "      <th>listing_id</th>\n",
       "      <th>comments</th>\n",
       "      <th>neighbourhood</th>\n",
       "      <th>polarity_score</th>\n",
       "    </tr>\n",
       "  </thead>\n",
       "  <tbody>\n",
       "    <tr>\n",
       "      <th>75338</th>\n",
       "      <td>1593991</td>\n",
       "      <td>Wir haben und bei Stan und Carrie rundrum wohl...</td>\n",
       "      <td>North Beach/Blue Ridge</td>\n",
       "      <td>-0.9823</td>\n",
       "    </tr>\n",
       "    <tr>\n",
       "      <th>55356</th>\n",
       "      <td>86185</td>\n",
       "      <td>Jane hat dafür gesorgt, dass wir uns sehr wohl...</td>\n",
       "      <td>North Admiral</td>\n",
       "      <td>-0.9823</td>\n",
       "    </tr>\n",
       "    <tr>\n",
       "      <th>25870</th>\n",
       "      <td>3333971</td>\n",
       "      <td>Die Appartements von Darcy liegen sehr gut  ze...</td>\n",
       "      <td>Pioneer Square</td>\n",
       "      <td>-0.9828</td>\n",
       "    </tr>\n",
       "    <tr>\n",
       "      <th>26213</th>\n",
       "      <td>4814811</td>\n",
       "      <td>Cameron und seine Mitbewohner waren super Gast...</td>\n",
       "      <td>Minor</td>\n",
       "      <td>-0.9828</td>\n",
       "    </tr>\n",
       "    <tr>\n",
       "      <th>71767</th>\n",
       "      <td>4668327</td>\n",
       "      <td>We were very disappointed in our stay with Bri...</td>\n",
       "      <td>North Beacon Hill</td>\n",
       "      <td>-0.9833</td>\n",
       "    </tr>\n",
       "    <tr>\n",
       "      <th>43527</th>\n",
       "      <td>9183838</td>\n",
       "      <td>Unfortunately my experience with the Belltown ...</td>\n",
       "      <td>Belltown</td>\n",
       "      <td>-0.9863</td>\n",
       "    </tr>\n",
       "    <tr>\n",
       "      <th>24224</th>\n",
       "      <td>4752817</td>\n",
       "      <td>Die Wohnung war bei Übernahme perfekt sauber. ...</td>\n",
       "      <td>First Hill</td>\n",
       "      <td>-0.9864</td>\n",
       "    </tr>\n",
       "    <tr>\n",
       "      <th>65646</th>\n",
       "      <td>841274</td>\n",
       "      <td>Wir haben die 16 Tage bei Jill sehr genossen. ...</td>\n",
       "      <td>Mount Baker</td>\n",
       "      <td>-0.9866</td>\n",
       "    </tr>\n",
       "    <tr>\n",
       "      <th>68659</th>\n",
       "      <td>9519968</td>\n",
       "      <td>Do NOT rent this house if you are not the clea...</td>\n",
       "      <td>Montlake</td>\n",
       "      <td>-0.9868</td>\n",
       "    </tr>\n",
       "    <tr>\n",
       "      <th>3890</th>\n",
       "      <td>6245498</td>\n",
       "      <td>Der Bungalow von Kevin bietet alle Annehmlichk...</td>\n",
       "      <td>Whittier Heights</td>\n",
       "      <td>-0.9880</td>\n",
       "    </tr>\n",
       "    <tr>\n",
       "      <th>32787</th>\n",
       "      <td>5805162</td>\n",
       "      <td>Die Ankunft war unkompliziert. Die Lage ist ru...</td>\n",
       "      <td>Ravenna</td>\n",
       "      <td>-0.9881</td>\n",
       "    </tr>\n",
       "    <tr>\n",
       "      <th>14908</th>\n",
       "      <td>685600</td>\n",
       "      <td>Das Zimmer war wie beschrieben und die Umgebun...</td>\n",
       "      <td>Lawton Park</td>\n",
       "      <td>-0.9885</td>\n",
       "    </tr>\n",
       "    <tr>\n",
       "      <th>1786</th>\n",
       "      <td>208356</td>\n",
       "      <td>Die Unterkunft ist so wie beschrieben und die ...</td>\n",
       "      <td>International District</td>\n",
       "      <td>-0.9892</td>\n",
       "    </tr>\n",
       "    <tr>\n",
       "      <th>22483</th>\n",
       "      <td>6115704</td>\n",
       "      <td>Beautiful Condo - Beware : NO AC!\\nWe stayed a...</td>\n",
       "      <td>Central Business District</td>\n",
       "      <td>-0.9908</td>\n",
       "    </tr>\n",
       "    <tr>\n",
       "      <th>18347</th>\n",
       "      <td>26116</td>\n",
       "      <td>Für den Aufenthalt in einer fremdem Stadt hatt...</td>\n",
       "      <td>Broadway</td>\n",
       "      <td>-0.9927</td>\n",
       "    </tr>\n",
       "    <tr>\n",
       "      <th>75564</th>\n",
       "      <td>1775016</td>\n",
       "      <td>Staying at Robert’s place was a nightmare. At ...</td>\n",
       "      <td>Broadway</td>\n",
       "      <td>-0.9941</td>\n",
       "    </tr>\n",
       "    <tr>\n",
       "      <th>32404</th>\n",
       "      <td>3291777</td>\n",
       "      <td>Melissa replied to our request and approved bu...</td>\n",
       "      <td>University District</td>\n",
       "      <td>-0.9956</td>\n",
       "    </tr>\n",
       "    <tr>\n",
       "      <th>84378</th>\n",
       "      <td>4577542</td>\n",
       "      <td>Die Unterkunft war sehr schön und genau so, wi...</td>\n",
       "      <td>Minor</td>\n",
       "      <td>-0.9961</td>\n",
       "    </tr>\n",
       "    <tr>\n",
       "      <th>29434</th>\n",
       "      <td>1018204</td>\n",
       "      <td>leider war esnicht so fein, da die unterkunft ...</td>\n",
       "      <td>Minor</td>\n",
       "      <td>-0.9970</td>\n",
       "    </tr>\n",
       "    <tr>\n",
       "      <th>50261</th>\n",
       "      <td>258571</td>\n",
       "      <td>Wir sind 5 Nächte geblieben. Und es ist eine A...</td>\n",
       "      <td>Broadway</td>\n",
       "      <td>-0.9975</td>\n",
       "    </tr>\n",
       "  </tbody>\n",
       "</table>\n",
       "</div>"
      ],
      "text/plain": [
       "       listing_id                                           comments  \\\n",
       "75338     1593991  Wir haben und bei Stan und Carrie rundrum wohl...   \n",
       "55356       86185  Jane hat dafür gesorgt, dass wir uns sehr wohl...   \n",
       "25870     3333971  Die Appartements von Darcy liegen sehr gut  ze...   \n",
       "26213     4814811  Cameron und seine Mitbewohner waren super Gast...   \n",
       "71767     4668327  We were very disappointed in our stay with Bri...   \n",
       "43527     9183838  Unfortunately my experience with the Belltown ...   \n",
       "24224     4752817  Die Wohnung war bei Übernahme perfekt sauber. ...   \n",
       "65646      841274  Wir haben die 16 Tage bei Jill sehr genossen. ...   \n",
       "68659     9519968  Do NOT rent this house if you are not the clea...   \n",
       "3890      6245498  Der Bungalow von Kevin bietet alle Annehmlichk...   \n",
       "32787     5805162  Die Ankunft war unkompliziert. Die Lage ist ru...   \n",
       "14908      685600  Das Zimmer war wie beschrieben und die Umgebun...   \n",
       "1786       208356  Die Unterkunft ist so wie beschrieben und die ...   \n",
       "22483     6115704  Beautiful Condo - Beware : NO AC!\\nWe stayed a...   \n",
       "18347       26116  Für den Aufenthalt in einer fremdem Stadt hatt...   \n",
       "75564     1775016  Staying at Robert’s place was a nightmare. At ...   \n",
       "32404     3291777  Melissa replied to our request and approved bu...   \n",
       "84378     4577542  Die Unterkunft war sehr schön und genau so, wi...   \n",
       "29434     1018204  leider war esnicht so fein, da die unterkunft ...   \n",
       "50261      258571  Wir sind 5 Nächte geblieben. Und es ist eine A...   \n",
       "\n",
       "                   neighbourhood  polarity_score  \n",
       "75338     North Beach/Blue Ridge         -0.9823  \n",
       "55356              North Admiral         -0.9823  \n",
       "25870             Pioneer Square         -0.9828  \n",
       "26213                      Minor         -0.9828  \n",
       "71767          North Beacon Hill         -0.9833  \n",
       "43527                   Belltown         -0.9863  \n",
       "24224                 First Hill         -0.9864  \n",
       "65646                Mount Baker         -0.9866  \n",
       "68659                   Montlake         -0.9868  \n",
       "3890            Whittier Heights         -0.9880  \n",
       "32787                    Ravenna         -0.9881  \n",
       "14908                Lawton Park         -0.9885  \n",
       "1786      International District         -0.9892  \n",
       "22483  Central Business District         -0.9908  \n",
       "18347                   Broadway         -0.9927  \n",
       "75564                   Broadway         -0.9941  \n",
       "32404        University District         -0.9956  \n",
       "84378                      Minor         -0.9961  \n",
       "29434                      Minor         -0.9970  \n",
       "50261                   Broadway         -0.9975  "
      ]
     },
     "execution_count": 167,
     "metadata": {},
     "output_type": "execute_result"
    }
   ],
   "source": [
    "# Explore the worst reviews\n",
    "SeatleReviews_Comments.sort_values(by='polarity_score',ascending=False).tail(20)"
   ]
  },
  {
   "cell_type": "markdown",
   "metadata": {},
   "source": [
    "\n",
    "**FINDINGS**\n",
    "\n",
    "It is interesting to see that most of the reviews that were rated badly on the polarity score seem to be in **DEUTSCH** ! Perhaps this is a limitation of the Sentiment Intensity Analyzer.\n",
    "\n",
    "The other 3 reviews seem to be genuinely bad, with users complaining about the lack of A/C and fans, host being rude, construction noise ruining people's stay, poor condition of the place etc."
   ]
  },
  {
   "cell_type": "code",
   "execution_count": 168,
   "metadata": {},
   "outputs": [
    {
     "data": {
      "text/plain": [
       "0"
      ]
     },
     "execution_count": 168,
     "metadata": {},
     "output_type": "execute_result"
    }
   ],
   "source": [
    "# Check if price has missing values, if it does, we want to remove those records from the dataset\n",
    "\n",
    "SeatleListings['price'].isnull().sum()"
   ]
  },
  {
   "cell_type": "markdown",
   "metadata": {},
   "source": [
    "\n",
    "**FINDINGS**\n",
    "\n",
    "All records in the listings dataset have price information available to use.\n",
    "\n",
    "Based on the field definitions, there are some columns that seem less likely to impact price, so we will drop these from the dataset in order to work with a cleaner and smaller dataset. The reasons for dropping these fields are mostly:\n",
    "\n",
    "ID field or meta data associated with the listing\n",
    "\n",
    "Other fields that capture **same/similar information** (eg: using country code and dropping country)\n",
    "\n",
    "**Dropping very granular** fields such as street, zipcode, latitude, longitude etc. and keeping the analysis at the city level\n",
    "\n",
    "The columns we will be dropping are: id ,listing_url ,scrape_id ,last_scraped ,thumbnail_url, medium_url ,xl_picture_url, \n",
    "\n",
    "host_id,host_url, host_thumbnail_url, host_verifications, street, neighbourhood, neighbourhood_group_cleansed ,zipcode, \n",
    "\n",
    "smart_location,country, latitude, longitude, weekly_price, monthly_price, calendar_updated, \n",
    "\n",
    "calendar_last_scraped,first_review,last_review, calculated_host_listings_count,reviews_per_month"
   ]
  },
  {
   "cell_type": "code",
   "execution_count": 169,
   "metadata": {},
   "outputs": [
    {
     "data": {
      "text/plain": [
       "(3818, 92)"
      ]
     },
     "execution_count": 169,
     "metadata": {},
     "output_type": "execute_result"
    }
   ],
   "source": [
    "SeatleListings.shape"
   ]
  },
  {
   "cell_type": "code",
   "execution_count": 170,
   "metadata": {},
   "outputs": [
    {
     "data": {
      "text/plain": [
       "(3818, 65)"
      ]
     },
     "execution_count": 170,
     "metadata": {},
     "output_type": "execute_result"
    }
   ],
   "source": [
    "# Drop columns that are less likely to have an impact on price\n",
    "\n",
    "SeatleListings_modified = SeatleListings.copy()\n",
    "cols_less_impact = ['id','listing_url','scrape_id','last_scraped',\n",
    "                    'thumbnail_url','medium_url','xl_picture_url','host_id',\n",
    "                    'host_url','host_thumbnail_url','host_verifications',\n",
    "                    'street','neighbourhood','neighbourhood_group_cleansed',\n",
    "                    'zipcode','smart_location','country','latitude','longitude',\n",
    "                    'weekly_price','monthly_price','calendar_updated','calendar_last_scraped',\n",
    "                    'first_review','last_review','calculated_host_listings_count','reviews_per_month']\n",
    "SeatleListings_modified = SeatleListings.drop(cols_less_impact, axis=1)\n",
    "SeatleListings_modified.shape"
   ]
  },
  {
   "cell_type": "code",
   "execution_count": 171,
   "metadata": {},
   "outputs": [
    {
     "data": {
      "text/plain": [
       "['license']"
      ]
     },
     "execution_count": 171,
     "metadata": {},
     "output_type": "execute_result"
    }
   ],
   "source": [
    "# check if any column has a missing values\n",
    "SeatleListings_modified.columns[SeatleListings_modified.isnull().all()].tolist()"
   ]
  },
  {
   "cell_type": "code",
   "execution_count": 172,
   "metadata": {},
   "outputs": [
    {
     "data": {
      "text/plain": [
       "(3818, 64)"
      ]
     },
     "execution_count": 172,
     "metadata": {},
     "output_type": "execute_result"
    }
   ],
   "source": [
    "# Drop license column\n",
    "\n",
    "SeatleListings_modified = SeatleListings_modified.drop('license', axis=1)\n",
    "SeatleListings_modified.shape"
   ]
  },
  {
   "cell_type": "code",
   "execution_count": 173,
   "metadata": {},
   "outputs": [
    {
     "name": "stdout",
     "output_type": "stream",
     "text": [
      "host_listings_count 2\n",
      "host_total_listings_count 2\n",
      "bathrooms 16\n",
      "bedrooms 6\n",
      "beds 1\n",
      "square_feet 3721\n",
      "price 0\n",
      "review_scores_rating 647\n",
      "review_scores_accuracy 658\n",
      "review_scores_cleanliness 653\n",
      "review_scores_checkin 658\n",
      "review_scores_communication 651\n",
      "review_scores_location 655\n",
      "review_scores_value 656\n"
     ]
    }
   ],
   "source": [
    "# Review all the numerical columns and assess missing values\n",
    "\n",
    "numerical_cols = SeatleListings_modified.select_dtypes(include=['float', 'int']).columns\n",
    "for col in numerical_cols:\n",
    "    print(col,SeatleListings_modified[col].isnull().sum())"
   ]
  },
  {
   "cell_type": "markdown",
   "metadata": {},
   "source": [
    "\n",
    "\n",
    "**FINDINGS**\n",
    "\n",
    "**bathrooms**\n",
    "There are 16 rows with Nan for bathrooms. Since it's a small percentage of rows, I have decided to drop the corresponding rows\n",
    "\n",
    "**bedrooms**\n",
    "Looking at the dataset, since all the rows with blank bedroom field have beds value of at least 1, I will use **1** for bedrooms where bedrooms is **Nan**\n",
    "\n",
    "**beds**\n",
    "For the **1** record that have beds as Nan, **bed_type is specified as Real Bed**, so I will set beds to **1** for this case\n",
    "\n",
    "**square_feet**\n",
    "Since a **high** percentage of this field is Nan, I am going to **drop** this column\n",
    "\n",
    "**review_scores columns**\n",
    "Since these are review related scores, I will be setting **all Nan** values to **0** assuming no review scores for these listings.\n",
    "\n",
    "**host_listings_count and host_total_listings_count**\n",
    "There are **only 2 rows** with no values. Looking at the data, I determined that these host IDs only have 1 record associated with them each, so I decided to populate with **1**."
   ]
  },
  {
   "cell_type": "code",
   "execution_count": 174,
   "metadata": {},
   "outputs": [],
   "source": [
    "# Drop bathroom where bathroom is Nan\n",
    "SeatleListings_modified['bathrooms'] = SeatleListings_modified['bathrooms'].dropna()\n",
    "\n",
    "# Set 1 for bedrooms where bedrooms is Nan\n",
    "SeatleListings_modified['bedrooms'] = SeatleListings_modified['bedrooms'].fillna(1)\n",
    "\n",
    "# Set 1 for beds where beds is Nan\n",
    "SeatleListings_modified['beds'] = SeatleListings_modified['beds'].fillna(1)\n",
    "\n",
    "# Drop square_feet column\n",
    "SeatleListings_modified = SeatleListings_modified.drop('square_feet',axis=1)\n",
    "\n",
    "# Set all review scores columns with 0 for Nan values\n",
    "cols_fillna_0 = ['review_scores_rating','review_scores_accuracy','review_scores_cleanliness','review_scores_checkin','review_scores_communication','review_scores_location','review_scores_value']\n",
    "for col in cols_fillna_0:\n",
    "    SeatleListings_modified[col] = SeatleListings_modified[col].fillna(0)\n",
    "\n",
    "# Set host_listings_count and host_total_listings_count to 1\n",
    "SeatleListings_modified['host_listings_count'] = SeatleListings_modified['host_listings_count'].fillna(1)\n",
    "SeatleListings_modified['host_total_listings_count'] = SeatleListings_modified['host_total_listings_count'].fillna(1)"
   ]
  },
  {
   "cell_type": "code",
   "execution_count": 175,
   "metadata": {},
   "outputs": [
    {
     "name": "stdout",
     "output_type": "stream",
     "text": [
      "host_listings_count 0\n",
      "host_total_listings_count 0\n",
      "bathrooms 16\n",
      "bedrooms 0\n",
      "beds 0\n",
      "price 0\n",
      "review_scores_rating 0\n",
      "review_scores_accuracy 0\n",
      "review_scores_cleanliness 0\n",
      "review_scores_checkin 0\n",
      "review_scores_communication 0\n",
      "review_scores_location 0\n",
      "review_scores_value 0\n"
     ]
    }
   ],
   "source": [
    "# Check again all the numerical columns and assess missing values\n",
    "\n",
    "numerical_cols = SeatleListings_modified.select_dtypes(include=['float', 'int']).columns\n",
    "for col in numerical_cols:\n",
    "    print(col,SeatleListings_modified[col].isnull().sum())"
   ]
  },
  {
   "cell_type": "code",
   "execution_count": 176,
   "metadata": {},
   "outputs": [
    {
     "name": "stdout",
     "output_type": "stream",
     "text": [
      "name 0\n",
      "summary 177\n",
      "space 569\n",
      "description 0\n",
      "experiences_offered 0\n",
      "neighborhood_overview 1032\n",
      "notes 1606\n",
      "transit 934\n",
      "picture_url 0\n",
      "host_name 2\n",
      "host_since 2\n",
      "host_location 8\n",
      "host_about 859\n",
      "host_response_time 523\n",
      "host_response_rate 523\n",
      "host_acceptance_rate 773\n",
      "host_is_superhost 2\n",
      "host_picture_url 2\n",
      "host_neighbourhood 300\n",
      "host_has_profile_pic 2\n",
      "host_identity_verified 2\n",
      "neighbourhood_cleansed 0\n",
      "city 0\n",
      "state 0\n",
      "market 0\n",
      "country_code 0\n",
      "is_location_exact 0\n",
      "property_type 1\n",
      "room_type 0\n",
      "bed_type 0\n",
      "amenities 0\n",
      "security_deposit 1952\n",
      "cleaning_fee 1030\n",
      "extra_people 0\n",
      "has_availability 0\n",
      "requires_license 0\n",
      "jurisdiction_names 0\n",
      "instant_bookable 0\n",
      "cancellation_policy 0\n",
      "require_guest_profile_picture 0\n",
      "require_guest_phone_verification 0\n"
     ]
    }
   ],
   "source": [
    "# Review all the categorical columns and assess missing values\n",
    "\n",
    "categorical_cols = SeatleListings_modified.select_dtypes(include=['object']).columns\n",
    "for col in categorical_cols:\n",
    "    print(col,SeatleListings_modified[col].isnull().sum())"
   ]
  },
  {
   "cell_type": "markdown",
   "metadata": {},
   "source": [
    "\n",
    "\n",
    "**FINDINGS**\n",
    "\n",
    "**summary, space, neighborhood_overview, notes, transit**\n",
    "Since these are all text fields describing the property in some way, I have decided to convert these fields into boolean fields to indicate if a value exists. I am doing so that I can consider listings that have descriptive information available like summary and transit towards price prediction.\n",
    "\n",
    "**host_name, host_since, host_location, host_about, host_picture_url, host_neighbourhood**\n",
    "Since these are all fields that are descriptive about the host, I am going to convert these fields into boolean fields as well to indicate if a value exists or not.\n",
    "\n",
    "**host_response_time, host_acceptance_rate**\n",
    "These fields seems to have N/A as a valid value, so I will assign N/A where Nan values exist.\n",
    "\n",
    "**host_response_rate**\n",
    "Looking at the data, since this is a percentage value and the range is quite distributed, I will be converting this to float and setting N/A and blanks to 0.\n",
    "\n",
    "**host_is_superhost, host_has_profile_pic, host_identity_verified**\n",
    "These are boolean fields with t or f values. Assign 1 for t, 0 for f and assign Nans with 0\n",
    "\n",
    "**property_type**\n",
    "Since this is just 1 record, we will just drop this record\n",
    "\n",
    "**security_deposit**\n",
    "We will assume a 0 security deposit for where it is not specified. We will also remove $ signs and convert to float\n",
    "\n",
    "**cleaning_fee**\n",
    "We will assume a 0 cleaning_fee where it is not specified. We will also remove $ signs and convert to float\n",
    "\n",
    "The following fields do not have missing values, but it is important to clean these as well.\n",
    "\n",
    "\n",
    "**name, description, picture_url**\n",
    "Since these are all text fields as well, I have decided to convert these fields into boolean fields to indicate if a value exists. I am doing so that I can consider listings that have descriptive information available like description and picture_url towards price prediction.\n",
    "\n",
    "**experiences_offered**\n",
    "all values in this column is 'None' and it doesn't add any value, so we will be dropping this column\n",
    "\n",
    "**market**\n",
    "all values are 'Seattle' in this column, since we have other descriptors for Seattle, we will be dropping this column\n",
    "\n",
    "**is_location_exact, has_availability, requires_license, instant_bookable, require_guest_profile_picture, require_guest_phone_verification**\n",
    "\n",
    "these fields have t/f values, will convert to 1/0.\n",
    "\n",
    "**extra_people** - Need to remove $ sign and convert to float\n",
    "\n",
    "**jurisdiction_names**\n",
    "All values are 'WASHINGTON', doesn't add much value, will be dropping this column\n",
    "\n",
    "**city** There are some inconsistencies in this field where we have several values for Seattle, for example: \"Seattle\", \"Seattle \" (with a space at the end) and \"seattle\". We will convert all city names to lower case and trim spaces in order to standardize.\n",
    "\n",
    "**state** \n",
    "There are both \"WA\" and \"wa\" values for state. We will be converting all state names to lowercase in order to standardize.\n",
    "\n",
    "amenities - this field contains a list of values in each row, we will need to figure out how to handle this column"
   ]
  },
  {
   "cell_type": "code",
   "execution_count": 177,
   "metadata": {},
   "outputs": [],
   "source": [
    "# Function to set all text fields to boolean\n",
    "\n",
    "def set_bool_text(text):\n",
    "    '''\n",
    "    Function to set all text fields to boolean\n",
    "    INPUT:\n",
    "    text - the textdata that needs to be converted into a bool value \n",
    "    OUTPUT:\n",
    "    Boolean 0 or 1 - Returns 0 if no text passed, 1 otherwise to indicate presence of the text field\n",
    "    \n",
    "    Converts the text columns into a boolean field representing the presence or absence of the text field\n",
    "    '''\n",
    "    if not text:\n",
    "        return 0\n",
    "    else:\n",
    "        return 1\n",
    "\n",
    "\n",
    "text_host_fields = ['summary','space','neighborhood_overview','notes','transit',\n",
    "                    'name','description','picture_url','host_name','host_since',\n",
    "                    'host_location','host_about','host_picture_url','host_neighbourhood']\n",
    "for t in text_host_fields:\n",
    "    SeatleListings_modified[t] = SeatleListings_modified[t].apply(set_bool_text)"
   ]
  },
  {
   "cell_type": "code",
   "execution_count": 178,
   "metadata": {},
   "outputs": [],
   "source": [
    "# Function to set all t/f fields to 1/0\n",
    "\n",
    "def set_bool_tf(tfdata):\n",
    "    '''\n",
    "    Function to set all true/false fields to 1 or 0\n",
    "    INPUT:\n",
    "    tfdata - the true or false fields that have 't' and 'f' values that we would like to convert to boolean\n",
    "    OUTPUT:\n",
    "    Boolean 0 or 1 - Returns 0 if false, 1 for true\n",
    "    \n",
    "    Converts a true or false type field into a boolean with 1 and 0s\n",
    "    '''\n",
    "    if tfdata == 't':\n",
    "        return 1\n",
    "    else: \n",
    "        return 0\n",
    "\n",
    "tf_fields = ['host_is_superhost','host_has_profile_pic','host_identity_verified','is_location_exact','has_availability','requires_license','instant_bookable','require_guest_profile_picture','require_guest_phone_verification']\n",
    "for t in tf_fields:\n",
    "    SeatleListings_modified[t] = SeatleListings_modified[t].apply(set_bool_tf)"
   ]
  },
  {
   "cell_type": "code",
   "execution_count": 179,
   "metadata": {},
   "outputs": [],
   "source": [
    "# Assign N/A to applicable host fields\n",
    "\n",
    "SeatleListings_modified['host_response_time'] = SeatleListings_modified['host_response_time'].fillna('N/A')\n",
    "SeatleListings_modified['host_acceptance_rate'] = SeatleListings_modified['host_acceptance_rate'].fillna('N/A')\n",
    "SeatleListings_modified['host_response_rate'] = SeatleListings_modified['host_response_rate'].apply(lambda x: 0 if x == 'N/A' else x)\n",
    "SeatleListings_modified['host_response_rate'] = SeatleListings_modified['host_response_rate'].replace('[\\%,]', '', regex=True).astype(float)\n",
    "SeatleListings_modified['host_response_rate'] = SeatleListings_modified['host_response_rate'].fillna(0)"
   ]
  },
  {
   "cell_type": "code",
   "execution_count": 180,
   "metadata": {},
   "outputs": [],
   "source": [
    "# Drop record with empty value for property_type\n",
    "\n",
    "SeatleListings_modified = SeatleListings_modified.dropna(subset=['property_type'], axis=0)"
   ]
  },
  {
   "cell_type": "code",
   "execution_count": 181,
   "metadata": {},
   "outputs": [],
   "source": [
    "# Drop columns experiences_offered, market and jurisdiction_name\n",
    "\n",
    "SeatleListings_modified = SeatleListings_modified.drop(['experiences_offered','market','jurisdiction_names',], axis = 1)"
   ]
  },
  {
   "cell_type": "code",
   "execution_count": 182,
   "metadata": {},
   "outputs": [],
   "source": [
    "# Clean security_deposit, cleaning_fee and extra people\n",
    "\n",
    "SeatleListings_modified['security_deposit'] = SeatleListings_modified['security_deposit'].replace('[\\$,]', '', regex=True).astype(float)\n",
    "SeatleListings_modified['cleaning_fee'] = SeatleListings_modified['cleaning_fee'].replace('[\\$,]', '', regex=True).astype(float)\n",
    "SeatleListings_modified['extra_people'] = SeatleListings_modified['extra_people'].replace('[\\$,]', '', regex=True).astype(float)\n",
    "SeatleListings_modified['security_deposit'] = SeatleListings_modified['security_deposit'].fillna(0)\n",
    "SeatleListings_modified['cleaning_fee'] = SeatleListings_modified['cleaning_fee'].fillna(0)\n"
   ]
  },
  {
   "cell_type": "code",
   "execution_count": 183,
   "metadata": {},
   "outputs": [],
   "source": [
    "# Clean up city names\n",
    "\n",
    "SeatleListings_modified['city'] = SeatleListings_modified['city'].str.lower()\n",
    "SeatleListings_modified['city'] = SeatleListings_modified['city'].str.strip()\n",
    "SeatleListings_modified['state'] = SeatleListings_modified['state'].str.lower()"
   ]
  },
  {
   "cell_type": "code",
   "execution_count": 184,
   "metadata": {},
   "outputs": [
    {
     "name": "stdout",
     "output_type": "stream",
     "text": [
      "host_response_time 0\n",
      "host_acceptance_rate 0\n",
      "neighbourhood_cleansed 0\n",
      "city 0\n",
      "state 0\n",
      "country_code 0\n",
      "property_type 0\n",
      "room_type 0\n",
      "bed_type 0\n",
      "amenities 0\n",
      "cancellation_policy 0\n"
     ]
    }
   ],
   "source": [
    "# Check all the categorical columns and assess missing values\n",
    "\n",
    "categorical_cols = SeatleListings_modified.select_dtypes(include=['object']).columns\n",
    "for col in categorical_cols:\n",
    "    print(col,SeatleListings_modified[col].isnull().sum())"
   ]
  },
  {
   "cell_type": "code",
   "execution_count": 185,
   "metadata": {},
   "outputs": [
    {
     "data": {
      "text/plain": [
       "(3817, 60)"
      ]
     },
     "execution_count": 185,
     "metadata": {},
     "output_type": "execute_result"
    }
   ],
   "source": [
    "SeatleListings_modified.shape"
   ]
  },
  {
   "cell_type": "markdown",
   "metadata": {},
   "source": [
    "\n",
    "\n",
    "**HANDLE AMENITIES**\n",
    "\n",
    "In order to handle the amenities column, we will try to understand which are some of the most common amenities that are present within the listings. Once we know which amenities are important, we will create additional columns to represent each amenity as a boolean field."
   ]
  },
  {
   "cell_type": "code",
   "execution_count": 186,
   "metadata": {},
   "outputs": [],
   "source": [
    "# Handle amenities - Explore most common amenities\n",
    "\n",
    "amenities = []\n",
    "for index, row in SeatleListings_modified.iterrows():\n",
    "    row['amenities'] = row['amenities'].replace('{','').replace('}','').replace('\"','')\n",
    "    mylist = row['amenities'].split(',')\n",
    "    for l in mylist:\n",
    "        amenities.append(l)"
   ]
  },
  {
   "cell_type": "code",
   "execution_count": 187,
   "metadata": {},
   "outputs": [
    {
     "data": {
      "text/plain": [
       "[('Wireless Internet', 3666),\n",
       " ('Heating', 3626),\n",
       " ('Kitchen', 3422),\n",
       " ('Smoke Detector', 3280),\n",
       " ('Essentials', 3237),\n",
       " ('Dryer', 2996),\n",
       " ('Washer', 2991),\n",
       " ('Internet', 2811),\n",
       " ('Shampoo', 2670),\n",
       " ('TV', 2574),\n",
       " ('Carbon Monoxide Detector', 2485),\n",
       " ('Fire Extinguisher', 2196),\n",
       " ('Free Parking on Premises', 2166),\n",
       " ('Family/Kid Friendly', 1962),\n",
       " ('First Aid Kit', 1679),\n",
       " ('Cable TV', 1446),\n",
       " ('Indoor Fireplace', 885),\n",
       " ('Pets live on this property', 882),\n",
       " ('Hangers', 846),\n",
       " ('Elevator in Building', 785),\n",
       " ('Hair Dryer', 774),\n",
       " ('Laptop Friendly Workspace', 745),\n",
       " ('Iron', 742),\n",
       " ('Safety Card', 727),\n",
       " ('Air Conditioning', 677),\n",
       " ('24-Hour Check-in', 616),\n",
       " ('Buzzer/Wireless Intercom', 538),\n",
       " ('Dog(s)', 508),\n",
       " ('Pets Allowed', 472),\n",
       " ('Gym', 442),\n",
       " ('Cat(s)', 382),\n",
       " ('Hot Tub', 303),\n",
       " ('Wheelchair Accessible', 300),\n",
       " ('Breakfast', 291),\n",
       " ('Suitable for Events', 209),\n",
       " ('Pool', 159),\n",
       " ('Lock on Bedroom Door', 100),\n",
       " ('Doorman', 85),\n",
       " ('Smoking Allowed', 82),\n",
       " ('Other pet(s)', 50),\n",
       " ('', 45),\n",
       " ('Washer / Dryer', 2)]"
      ]
     },
     "execution_count": 187,
     "metadata": {},
     "output_type": "execute_result"
    }
   ],
   "source": [
    "# find most common amenities in our list\n",
    "\n",
    "amenities_count = Counter(amenities)\n",
    "amenities_count.most_common()"
   ]
  },
  {
   "cell_type": "markdown",
   "metadata": {},
   "source": [
    "\n",
    "**FINDINGS**\n",
    "\n",
    "Based on the above, I decided to take those amenities that are present **more than 2000 times** (about 53% compared to entire dataset), which is below.\n",
    "\n",
    "('Wireless Internet', 3666),<br>\n",
    "('Heating', 3626),<br>\n",
    "('Kitchen', 3422),<br>\n",
    "('Smoke Detector', 3280),<br>\n",
    "('Essentials', 3237),<br>\n",
    "('Dryer', 2996),<br>\n",
    "('Washer', 2991),<br>\n",
    "('Internet', 2811),<br>\n",
    "('Shampoo', 2670),<br>\n",
    "('TV', 2574),<br>\n",
    "('Carbon Monoxide Detector', 2485),<br>\n",
    "('Fire Extinguisher', 2196),<br>\n",
    "('Free Parking on Premises', 2166)<br>"
   ]
  },
  {
   "cell_type": "code",
   "execution_count": 188,
   "metadata": {},
   "outputs": [],
   "source": [
    "amenities_new_columns =['amenities_wireless_internet|Wireless Internet','amenities_heating|Heating','amenities_kitchen|Kitchen','amenities_smoke_detector|Smoke Detector','amenities_essentials|Essentials','amenities_dryer|Dryer','amenities_washer|Washer','amenities_internet|Internet','amenities_shampoo|Shampoo','amenities_tv|TV','amenities_carbon_monoxide_detector|Carbon Monoxide Detector','amenities_fire_extinguisher|Fire Extinguisher','amenities_free_parking|Free Parking on Premises']\n",
    "for c in amenities_new_columns:\n",
    "    c_colname,c_desc = c.split('|')\n",
    "    SeatleListings_modified[c_colname] = SeatleListings_modified['amenities'].apply(lambda x: 1 if c_desc in x else 0)"
   ]
  },
  {
   "cell_type": "code",
   "execution_count": 189,
   "metadata": {},
   "outputs": [],
   "source": [
    "#Drop the original amenties column from SeatleListing_modified\n",
    "\n",
    "SeatleListings_modified =SeatleListings_modified.drop('amenities',axis=1)"
   ]
  },
  {
   "cell_type": "code",
   "execution_count": 190,
   "metadata": {},
   "outputs": [
    {
     "name": "stderr",
     "output_type": "stream",
     "text": [
      "C:\\Users\\Eng-mody\\Anaconda3\\lib\\site-packages\\ipykernel_launcher.py:26: SettingWithCopyWarning: \n",
      "A value is trying to be set on a copy of a slice from a DataFrame.\n",
      "Try using .loc[row_indexer,col_indexer] = value instead\n",
      "\n",
      "See the caveats in the documentation: http://pandas.pydata.org/pandas-docs/stable/indexing.html#indexing-view-versus-copy\n"
     ]
    }
   ],
   "source": [
    "df_amenities=SeatleListings_modified[[ 'amenities_wireless_internet',\n",
    " 'amenities_heating',\n",
    " 'amenities_kitchen',\n",
    " 'amenities_smoke_detector',\n",
    " 'amenities_essentials',\n",
    " 'amenities_dryer',\n",
    " 'amenities_washer',\n",
    " 'amenities_internet',\n",
    " 'amenities_shampoo',\n",
    " 'amenities_tv',\n",
    " 'amenities_carbon_monoxide_detector',\n",
    " 'amenities_fire_extinguisher',\n",
    " 'amenities_free_parking']]\n",
    "\n",
    "df_amenities['total_number_of_amenities']=df_amenities[[ 'amenities_wireless_internet','amenities_heating',\n",
    " 'amenities_kitchen',\n",
    " 'amenities_smoke_detector',\n",
    " 'amenities_essentials',\n",
    " 'amenities_dryer',\n",
    " 'amenities_washer',\n",
    " 'amenities_internet',\n",
    " 'amenities_shampoo',\n",
    " 'amenities_tv',\n",
    " 'amenities_carbon_monoxide_detector',\n",
    " 'amenities_fire_extinguisher',\n",
    " 'amenities_free_parking']].sum(axis=1)\n",
    "SeatleListings_modified['total_number_of_amenities']=df_amenities['total_number_of_amenities']"
   ]
  },
  {
   "cell_type": "code",
   "execution_count": 191,
   "metadata": {},
   "outputs": [],
   "source": [
    "SeatleListings_modified=SeatleListings_modified.drop(['amenities_wireless_internet','amenities_heating','amenities_kitchen',\n",
    " 'amenities_smoke_detector','amenities_essentials','amenities_dryer','amenities_washer',\n",
    " 'amenities_internet','amenities_shampoo','amenities_tv','amenities_carbon_monoxide_detector',\n",
    " 'amenities_fire_extinguisher','amenities_free_parking'],axis=1)"
   ]
  },
  {
   "cell_type": "code",
   "execution_count": 192,
   "metadata": {},
   "outputs": [
    {
     "data": {
      "text/plain": [
       "(3817, 60)"
      ]
     },
     "execution_count": 192,
     "metadata": {},
     "output_type": "execute_result"
    }
   ],
   "source": [
    "SeatleListings_modified.shape"
   ]
  },
  {
   "cell_type": "code",
   "execution_count": 193,
   "metadata": {},
   "outputs": [
    {
     "data": {
      "text/plain": [
       "Index(['host_response_time', 'host_acceptance_rate', 'neighbourhood_cleansed',\n",
       "       'city', 'state', 'country_code', 'property_type', 'room_type',\n",
       "       'bed_type', 'cancellation_policy'],\n",
       "      dtype='object')"
      ]
     },
     "execution_count": 193,
     "metadata": {},
     "output_type": "execute_result"
    }
   ],
   "source": [
    "# Review the remaining object columns\n",
    "SeatleListings_modified.select_dtypes(include=['object']).columns"
   ]
  },
  {
   "cell_type": "markdown",
   "metadata": {},
   "source": [
    "\n",
    "\n",
    "**FINDINGS**\n",
    "\n",
    "\n",
    "after thinking about object data and how it is related to the price i found that only **property type** is the most relevant one so i will drop all object dtypes columns except property type"
   ]
  },
  {
   "cell_type": "code",
   "execution_count": 194,
   "metadata": {},
   "outputs": [],
   "source": [
    "SeatleListings_modified=SeatleListings_modified.drop(['host_response_time', 'host_acceptance_rate', 'neighbourhood_cleansed',\n",
    "       'city', 'state', 'country_code', 'room_type','bed_type', 'cancellation_policy'],axis=1)"
   ]
  },
  {
   "cell_type": "code",
   "execution_count": 195,
   "metadata": {},
   "outputs": [],
   "source": [
    "Interesting_columns=['bathrooms','bedrooms','review_scores_rating','property_type','host_total_listings_count','accommodates','security_deposit',\n",
    "'cleaning_fee','total_number_of_amenities','price']"
   ]
  },
  {
   "cell_type": "code",
   "execution_count": 196,
   "metadata": {},
   "outputs": [],
   "source": [
    "SeatleListings_modified.dropna(inplace=True)"
   ]
  },
  {
   "cell_type": "code",
   "execution_count": 197,
   "metadata": {},
   "outputs": [],
   "source": [
    "SeatleListings_modified2=SeatleListings_modified[Interesting_columns]"
   ]
  },
  {
   "cell_type": "code",
   "execution_count": 198,
   "metadata": {},
   "outputs": [],
   "source": [
    "SeatleListings_modified2 = pd.get_dummies(SeatleListings_modified2, columns=['property_type'])\n"
   ]
  },
  {
   "cell_type": "code",
   "execution_count": 199,
   "metadata": {},
   "outputs": [
    {
     "data": {
      "text/html": [
       "<div>\n",
       "<style scoped>\n",
       "    .dataframe tbody tr th:only-of-type {\n",
       "        vertical-align: middle;\n",
       "    }\n",
       "\n",
       "    .dataframe tbody tr th {\n",
       "        vertical-align: top;\n",
       "    }\n",
       "\n",
       "    .dataframe thead th {\n",
       "        text-align: right;\n",
       "    }\n",
       "</style>\n",
       "<table border=\"1\" class=\"dataframe\">\n",
       "  <thead>\n",
       "    <tr style=\"text-align: right;\">\n",
       "      <th></th>\n",
       "      <th>bathrooms</th>\n",
       "      <th>bedrooms</th>\n",
       "      <th>review_scores_rating</th>\n",
       "      <th>host_total_listings_count</th>\n",
       "      <th>accommodates</th>\n",
       "      <th>security_deposit</th>\n",
       "      <th>cleaning_fee</th>\n",
       "      <th>total_number_of_amenities</th>\n",
       "      <th>price</th>\n",
       "      <th>property_type_Apartment</th>\n",
       "      <th>property_type_Bed &amp; Breakfast</th>\n",
       "      <th>property_type_Boat</th>\n",
       "      <th>property_type_Bungalow</th>\n",
       "      <th>property_type_Cabin</th>\n",
       "      <th>property_type_Camper/RV</th>\n",
       "      <th>property_type_Chalet</th>\n",
       "      <th>property_type_Condominium</th>\n",
       "      <th>property_type_Dorm</th>\n",
       "      <th>property_type_House</th>\n",
       "      <th>property_type_Loft</th>\n",
       "      <th>property_type_Other</th>\n",
       "      <th>property_type_Tent</th>\n",
       "      <th>property_type_Townhouse</th>\n",
       "      <th>property_type_Treehouse</th>\n",
       "      <th>property_type_Yurt</th>\n",
       "    </tr>\n",
       "  </thead>\n",
       "  <tbody>\n",
       "    <tr>\n",
       "      <th>0</th>\n",
       "      <td>1.0</td>\n",
       "      <td>1.0</td>\n",
       "      <td>95.0</td>\n",
       "      <td>3.0</td>\n",
       "      <td>4</td>\n",
       "      <td>0.0</td>\n",
       "      <td>0.0</td>\n",
       "      <td>7</td>\n",
       "      <td>85.0</td>\n",
       "      <td>1</td>\n",
       "      <td>0</td>\n",
       "      <td>0</td>\n",
       "      <td>0</td>\n",
       "      <td>0</td>\n",
       "      <td>0</td>\n",
       "      <td>0</td>\n",
       "      <td>0</td>\n",
       "      <td>0</td>\n",
       "      <td>0</td>\n",
       "      <td>0</td>\n",
       "      <td>0</td>\n",
       "      <td>0</td>\n",
       "      <td>0</td>\n",
       "      <td>0</td>\n",
       "      <td>0</td>\n",
       "    </tr>\n",
       "    <tr>\n",
       "      <th>1</th>\n",
       "      <td>1.0</td>\n",
       "      <td>1.0</td>\n",
       "      <td>96.0</td>\n",
       "      <td>6.0</td>\n",
       "      <td>4</td>\n",
       "      <td>100.0</td>\n",
       "      <td>40.0</td>\n",
       "      <td>12</td>\n",
       "      <td>150.0</td>\n",
       "      <td>1</td>\n",
       "      <td>0</td>\n",
       "      <td>0</td>\n",
       "      <td>0</td>\n",
       "      <td>0</td>\n",
       "      <td>0</td>\n",
       "      <td>0</td>\n",
       "      <td>0</td>\n",
       "      <td>0</td>\n",
       "      <td>0</td>\n",
       "      <td>0</td>\n",
       "      <td>0</td>\n",
       "      <td>0</td>\n",
       "      <td>0</td>\n",
       "      <td>0</td>\n",
       "      <td>0</td>\n",
       "    </tr>\n",
       "    <tr>\n",
       "      <th>2</th>\n",
       "      <td>4.5</td>\n",
       "      <td>5.0</td>\n",
       "      <td>97.0</td>\n",
       "      <td>2.0</td>\n",
       "      <td>11</td>\n",
       "      <td>1000.0</td>\n",
       "      <td>300.0</td>\n",
       "      <td>12</td>\n",
       "      <td>975.0</td>\n",
       "      <td>0</td>\n",
       "      <td>0</td>\n",
       "      <td>0</td>\n",
       "      <td>0</td>\n",
       "      <td>0</td>\n",
       "      <td>0</td>\n",
       "      <td>0</td>\n",
       "      <td>0</td>\n",
       "      <td>0</td>\n",
       "      <td>1</td>\n",
       "      <td>0</td>\n",
       "      <td>0</td>\n",
       "      <td>0</td>\n",
       "      <td>0</td>\n",
       "      <td>0</td>\n",
       "      <td>0</td>\n",
       "    </tr>\n",
       "    <tr>\n",
       "      <th>3</th>\n",
       "      <td>1.0</td>\n",
       "      <td>0.0</td>\n",
       "      <td>0.0</td>\n",
       "      <td>1.0</td>\n",
       "      <td>3</td>\n",
       "      <td>0.0</td>\n",
       "      <td>0.0</td>\n",
       "      <td>11</td>\n",
       "      <td>100.0</td>\n",
       "      <td>1</td>\n",
       "      <td>0</td>\n",
       "      <td>0</td>\n",
       "      <td>0</td>\n",
       "      <td>0</td>\n",
       "      <td>0</td>\n",
       "      <td>0</td>\n",
       "      <td>0</td>\n",
       "      <td>0</td>\n",
       "      <td>0</td>\n",
       "      <td>0</td>\n",
       "      <td>0</td>\n",
       "      <td>0</td>\n",
       "      <td>0</td>\n",
       "      <td>0</td>\n",
       "      <td>0</td>\n",
       "    </tr>\n",
       "    <tr>\n",
       "      <th>4</th>\n",
       "      <td>2.0</td>\n",
       "      <td>3.0</td>\n",
       "      <td>92.0</td>\n",
       "      <td>2.0</td>\n",
       "      <td>6</td>\n",
       "      <td>700.0</td>\n",
       "      <td>125.0</td>\n",
       "      <td>10</td>\n",
       "      <td>450.0</td>\n",
       "      <td>0</td>\n",
       "      <td>0</td>\n",
       "      <td>0</td>\n",
       "      <td>0</td>\n",
       "      <td>0</td>\n",
       "      <td>0</td>\n",
       "      <td>0</td>\n",
       "      <td>0</td>\n",
       "      <td>0</td>\n",
       "      <td>1</td>\n",
       "      <td>0</td>\n",
       "      <td>0</td>\n",
       "      <td>0</td>\n",
       "      <td>0</td>\n",
       "      <td>0</td>\n",
       "      <td>0</td>\n",
       "    </tr>\n",
       "  </tbody>\n",
       "</table>\n",
       "</div>"
      ],
      "text/plain": [
       "   bathrooms  bedrooms  review_scores_rating  host_total_listings_count  \\\n",
       "0        1.0       1.0                  95.0                        3.0   \n",
       "1        1.0       1.0                  96.0                        6.0   \n",
       "2        4.5       5.0                  97.0                        2.0   \n",
       "3        1.0       0.0                   0.0                        1.0   \n",
       "4        2.0       3.0                  92.0                        2.0   \n",
       "\n",
       "   accommodates  security_deposit  cleaning_fee  total_number_of_amenities  \\\n",
       "0             4               0.0           0.0                          7   \n",
       "1             4             100.0          40.0                         12   \n",
       "2            11            1000.0         300.0                         12   \n",
       "3             3               0.0           0.0                         11   \n",
       "4             6             700.0         125.0                         10   \n",
       "\n",
       "   price  property_type_Apartment  property_type_Bed & Breakfast  \\\n",
       "0   85.0                        1                              0   \n",
       "1  150.0                        1                              0   \n",
       "2  975.0                        0                              0   \n",
       "3  100.0                        1                              0   \n",
       "4  450.0                        0                              0   \n",
       "\n",
       "   property_type_Boat  property_type_Bungalow  property_type_Cabin  \\\n",
       "0                   0                       0                    0   \n",
       "1                   0                       0                    0   \n",
       "2                   0                       0                    0   \n",
       "3                   0                       0                    0   \n",
       "4                   0                       0                    0   \n",
       "\n",
       "   property_type_Camper/RV  property_type_Chalet  property_type_Condominium  \\\n",
       "0                        0                     0                          0   \n",
       "1                        0                     0                          0   \n",
       "2                        0                     0                          0   \n",
       "3                        0                     0                          0   \n",
       "4                        0                     0                          0   \n",
       "\n",
       "   property_type_Dorm  property_type_House  property_type_Loft  \\\n",
       "0                   0                    0                   0   \n",
       "1                   0                    0                   0   \n",
       "2                   0                    1                   0   \n",
       "3                   0                    0                   0   \n",
       "4                   0                    1                   0   \n",
       "\n",
       "   property_type_Other  property_type_Tent  property_type_Townhouse  \\\n",
       "0                    0                   0                        0   \n",
       "1                    0                   0                        0   \n",
       "2                    0                   0                        0   \n",
       "3                    0                   0                        0   \n",
       "4                    0                   0                        0   \n",
       "\n",
       "   property_type_Treehouse  property_type_Yurt  \n",
       "0                        0                   0  \n",
       "1                        0                   0  \n",
       "2                        0                   0  \n",
       "3                        0                   0  \n",
       "4                        0                   0  "
      ]
     },
     "execution_count": 199,
     "metadata": {},
     "output_type": "execute_result"
    }
   ],
   "source": [
    "SeatleListings_modified2.head()"
   ]
  },
  {
   "cell_type": "code",
   "execution_count": 200,
   "metadata": {},
   "outputs": [
    {
     "data": {
      "text/plain": [
       "(3801, 25)"
      ]
     },
     "execution_count": 200,
     "metadata": {},
     "output_type": "execute_result"
    }
   ],
   "source": [
    "SeatleListings_modified2.shape"
   ]
  },
  {
   "cell_type": "code",
   "execution_count": 201,
   "metadata": {},
   "outputs": [],
   "source": [
    "# Build out X and y, y to be price column and X to be all the other columns\n",
    "\n",
    "y = SeatleListings_modified2['price']\n",
    "X = SeatleListings_modified2.drop(['price'], axis=1)"
   ]
  },
  {
   "cell_type": "markdown",
   "metadata": {},
   "source": [
    "# 4. MODELING"
   ]
  },
  {
   "cell_type": "code",
   "execution_count": 202,
   "metadata": {},
   "outputs": [
    {
     "name": "stdout",
     "output_type": "stream",
     "text": [
      "(2850, 24) (2850,)\n",
      "(951, 24) (951,)\n"
     ]
    }
   ],
   "source": [
    "# Create train and test data sets\n",
    "X_train, X_test, y_train, y_test = train_test_split(X, y, test_size = .25, random_state=134) \n",
    "\n",
    "print(X_train.shape, y_train.shape)\n",
    "print(X_test.shape, y_test.shape)"
   ]
  },
  {
   "cell_type": "code",
   "execution_count": 203,
   "metadata": {},
   "outputs": [],
   "source": [
    "\n",
    "def train(model):\n",
    "    model.fit(X_train, y_train)\n",
    "    y_train_pred = model.predict(X_train)\n",
    "    y_test_pred = model.predict(X_test)\n",
    "    \n",
    "    mse = mean_squared_error(y_train, y_train_pred)\n",
    "    r2 = r2_score(y_train, y_train_pred)\n",
    "    print('For training data, mean squared error: {:.4f}, R2: {:.4f}'.format(mse, r2))\n",
    "\n",
    "    mse = mean_squared_error(y_test, y_test_pred)\n",
    "    r2 = r2_score(y_test, y_test_pred)\n",
    "    print('For test data, mean squared error: {:.4f}, R2: {:.4f}'.format(mse, r2))"
   ]
  },
  {
   "cell_type": "code",
   "execution_count": 204,
   "metadata": {},
   "outputs": [
    {
     "name": "stdout",
     "output_type": "stream",
     "text": [
      "For training data, mean squared error: 3829.6917, R2: 0.5412\n",
      "For test data, mean squared error: 3601.0294, R2: 0.5276\n"
     ]
    }
   ],
   "source": [
    "# linear regression\n",
    "from sklearn.linear_model import LinearRegression\n",
    "lr = LinearRegression()\n",
    "train(lr)"
   ]
  },
  {
   "cell_type": "code",
   "execution_count": 205,
   "metadata": {},
   "outputs": [
    {
     "name": "stdout",
     "output_type": "stream",
     "text": [
      "For training data, mean squared error: 3830.9683, R2: 0.5411\n",
      "For test data, mean squared error: 3602.1426, R2: 0.5275\n"
     ]
    }
   ],
   "source": [
    "# ridge regression\n",
    "from sklearn.linear_model import Ridge\n",
    "rr1 = Ridge(alpha=0.5)\n",
    "train(rr1)"
   ]
  },
  {
   "cell_type": "code",
   "execution_count": 206,
   "metadata": {},
   "outputs": [
    {
     "name": "stdout",
     "output_type": "stream",
     "text": [
      "For training data, mean squared error: 3829.7639, R2: 0.5412\n",
      "For test data, mean squared error: 3601.1634, R2: 0.5276\n"
     ]
    }
   ],
   "source": [
    "rr2 = Ridge(alpha=0.1)\n",
    "train(rr2)"
   ]
  },
  {
   "cell_type": "code",
   "execution_count": 207,
   "metadata": {},
   "outputs": [
    {
     "name": "stdout",
     "output_type": "stream",
     "text": [
      "For training data, mean squared error: 3829.7107, R2: 0.5412\n",
      "For test data, mean squared error: 3601.0887, R2: 0.5276\n"
     ]
    }
   ],
   "source": [
    "rr3 = Ridge(alpha=0.05)\n",
    "train(rr3)"
   ]
  },
  {
   "cell_type": "code",
   "execution_count": 208,
   "metadata": {},
   "outputs": [
    {
     "name": "stdout",
     "output_type": "stream",
     "text": [
      "For training data, mean squared error: 3856.2823, R2: 0.5380\n",
      "For test data, mean squared error: 3626.6122, R2: 0.5243\n"
     ]
    }
   ],
   "source": [
    "# lasso regression\n",
    "from sklearn.linear_model import Lasso\n",
    "lasso1 = Lasso(alpha=0.1)\n",
    "train(lasso1)"
   ]
  },
  {
   "cell_type": "code",
   "execution_count": 209,
   "metadata": {},
   "outputs": [
    {
     "name": "stdout",
     "output_type": "stream",
     "text": [
      "For training data, mean squared error: 3830.2207, R2: 0.5412\n",
      "For test data, mean squared error: 3601.8160, R2: 0.5275\n"
     ]
    }
   ],
   "source": [
    "lasso2 = Lasso(alpha=0.01)\n",
    "train(lasso2)"
   ]
  },
  {
   "cell_type": "markdown",
   "metadata": {},
   "source": [
    "# rr1 is my best model which is ridge linear regression with alpha 0.1\n",
    "\n"
   ]
  },
  {
   "cell_type": "markdown",
   "metadata": {},
   "source": [
    "\n",
    "\n",
    "**FINDINGS**\n",
    "\n",
    "After cleaning up the data set, I was able to get an r2score of 0.55 on both training and test data sets. Based on the above coefficient analysis, the features that have the most impact on price are a combination of host details and descriptive information about the listing such as host_name, has_availability, transit, space, host_about, notes, neighborhood_overview etc.\n",
    "\n",
    "Of course, needless to say, these results may be impacted based on how the data was standardized and some of the choices made."
   ]
  }
 ],
 "metadata": {
  "kernelspec": {
   "display_name": "Python 3",
   "language": "python",
   "name": "python3"
  },
  "language_info": {
   "codemirror_mode": {
    "name": "ipython",
    "version": 3
   },
   "file_extension": ".py",
   "mimetype": "text/x-python",
   "name": "python",
   "nbconvert_exporter": "python",
   "pygments_lexer": "ipython3",
   "version": "3.7.3"
  },
  "toc": {
   "base_numbering": 1,
   "nav_menu": {},
   "number_sections": false,
   "sideBar": true,
   "skip_h1_title": false,
   "title_cell": "Table of Contents",
   "title_sidebar": "Contents",
   "toc_cell": false,
   "toc_position": {},
   "toc_section_display": true,
   "toc_window_display": false
  }
 },
 "nbformat": 4,
 "nbformat_minor": 2
}
